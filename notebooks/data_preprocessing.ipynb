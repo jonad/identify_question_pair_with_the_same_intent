{
 "cells": [
  {
   "cell_type": "markdown",
   "metadata": {},
   "source": [
    "# Data Analysis on Quora dataset"
   ]
  },
  {
   "cell_type": "markdown",
   "metadata": {},
   "source": [
    "## Introduction"
   ]
  },
  {
   "cell_type": "markdown",
   "metadata": {},
   "source": [
    "In this notebook, we will analyze the [Quora dataset](https://www.kaggle.com/c/quora-question-pairs/data). The analysis will involve cleaning and preparing the data for the two algorithms we will be evaluating at the end of the notebook."
   ]
  },
  {
   "cell_type": "markdown",
   "metadata": {},
   "source": [
    "## Load essential libraries"
   ]
  },
  {
   "cell_type": "code",
   "execution_count": 1,
   "metadata": {},
   "outputs": [
    {
     "name": "stdout",
     "output_type": "stream",
     "text": [
      "[nltk_data] Downloading package stopwords to /root/nltk_data...\n",
      "[nltk_data]   Unzipping corpora/stopwords.zip.\n"
     ]
    },
    {
     "data": {
      "text/plain": [
       "True"
      ]
     },
     "execution_count": 1,
     "metadata": {},
     "output_type": "execute_result"
    }
   ],
   "source": [
    "# import libraries\n",
    "import nltk\n",
    "nltk.download('stopwords')"
   ]
  },
  {
   "cell_type": "code",
   "execution_count": 4,
   "metadata": {},
   "outputs": [
    {
     "name": "stderr",
     "output_type": "stream",
     "text": [
      "Using TensorFlow backend.\n"
     ]
    }
   ],
   "source": [
    "import warnings\n",
    "import pandas as pd\n",
    "import numpy as np\n",
    "import matplotlib.pyplot as plt\n",
    "import seaborn as sns\n",
    "# to update later\n",
    "from utils.utils import *\n",
    "\n",
    "from sklearn.model_selection import train_test_split\n",
    "from sklearn.decomposition import TruncatedSVD\n",
    "from sklearn.pipeline import make_pipeline\n",
    "from sklearn.feature_extraction.text import TfidfVectorizer\n",
    "from numpy.linalg import norm\n",
    "from models.w2vec_model import *\n",
    "from xgboost import XGBClassifier\n",
    "from sklearn.model_selection import train_test_split\n",
    "from xgboost import plot_importance\n",
    "#from sklearn.metrics import accuracy_score\n",
    "from sklearn.metrics import f1_score\n",
    "from pandas.tools.plotting import scatter_matrix\n",
    "\n",
    "seed = 10\n",
    "\n",
    "warnings.filterwarnings('ignore')"
   ]
  },
  {
   "cell_type": "markdown",
   "metadata": {},
   "source": [
    "## Quick look at the data"
   ]
  },
  {
   "cell_type": "code",
   "execution_count": 105,
   "metadata": {
    "collapsed": true
   },
   "outputs": [],
   "source": [
    "data = pd.read_csv('data/train.csv')"
   ]
  },
  {
   "cell_type": "code",
   "execution_count": 106,
   "metadata": {},
   "outputs": [
    {
     "data": {
      "text/html": [
       "<div>\n",
       "<style>\n",
       "    .dataframe thead tr:only-child th {\n",
       "        text-align: right;\n",
       "    }\n",
       "\n",
       "    .dataframe thead th {\n",
       "        text-align: left;\n",
       "    }\n",
       "\n",
       "    .dataframe tbody tr th {\n",
       "        vertical-align: top;\n",
       "    }\n",
       "</style>\n",
       "<table border=\"1\" class=\"dataframe\">\n",
       "  <thead>\n",
       "    <tr style=\"text-align: right;\">\n",
       "      <th></th>\n",
       "      <th>id</th>\n",
       "      <th>qid1</th>\n",
       "      <th>qid2</th>\n",
       "      <th>question1</th>\n",
       "      <th>question2</th>\n",
       "      <th>is_duplicate</th>\n",
       "    </tr>\n",
       "  </thead>\n",
       "  <tbody>\n",
       "    <tr>\n",
       "      <th>0</th>\n",
       "      <td>0</td>\n",
       "      <td>1</td>\n",
       "      <td>2</td>\n",
       "      <td>What is the step by step guide to invest in sh...</td>\n",
       "      <td>What is the step by step guide to invest in sh...</td>\n",
       "      <td>0</td>\n",
       "    </tr>\n",
       "    <tr>\n",
       "      <th>1</th>\n",
       "      <td>1</td>\n",
       "      <td>3</td>\n",
       "      <td>4</td>\n",
       "      <td>What is the story of Kohinoor (Koh-i-Noor) Dia...</td>\n",
       "      <td>What would happen if the Indian government sto...</td>\n",
       "      <td>0</td>\n",
       "    </tr>\n",
       "    <tr>\n",
       "      <th>2</th>\n",
       "      <td>2</td>\n",
       "      <td>5</td>\n",
       "      <td>6</td>\n",
       "      <td>How can I increase the speed of my internet co...</td>\n",
       "      <td>How can Internet speed be increased by hacking...</td>\n",
       "      <td>0</td>\n",
       "    </tr>\n",
       "    <tr>\n",
       "      <th>3</th>\n",
       "      <td>3</td>\n",
       "      <td>7</td>\n",
       "      <td>8</td>\n",
       "      <td>Why am I mentally very lonely? How can I solve...</td>\n",
       "      <td>Find the remainder when [math]23^{24}[/math] i...</td>\n",
       "      <td>0</td>\n",
       "    </tr>\n",
       "    <tr>\n",
       "      <th>4</th>\n",
       "      <td>4</td>\n",
       "      <td>9</td>\n",
       "      <td>10</td>\n",
       "      <td>Which one dissolve in water quikly sugar, salt...</td>\n",
       "      <td>Which fish would survive in salt water?</td>\n",
       "      <td>0</td>\n",
       "    </tr>\n",
       "  </tbody>\n",
       "</table>\n",
       "</div>"
      ],
      "text/plain": [
       "   id  qid1  qid2                                          question1  \\\n",
       "0   0     1     2  What is the step by step guide to invest in sh...   \n",
       "1   1     3     4  What is the story of Kohinoor (Koh-i-Noor) Dia...   \n",
       "2   2     5     6  How can I increase the speed of my internet co...   \n",
       "3   3     7     8  Why am I mentally very lonely? How can I solve...   \n",
       "4   4     9    10  Which one dissolve in water quikly sugar, salt...   \n",
       "\n",
       "                                           question2  is_duplicate  \n",
       "0  What is the step by step guide to invest in sh...             0  \n",
       "1  What would happen if the Indian government sto...             0  \n",
       "2  How can Internet speed be increased by hacking...             0  \n",
       "3  Find the remainder when [math]23^{24}[/math] i...             0  \n",
       "4            Which fish would survive in salt water?             0  "
      ]
     },
     "execution_count": 106,
     "metadata": {},
     "output_type": "execute_result"
    }
   ],
   "source": [
    "data.head()"
   ]
  },
  {
   "cell_type": "code",
   "execution_count": 107,
   "metadata": {},
   "outputs": [
    {
     "name": "stdout",
     "output_type": "stream",
     "text": [
      "<class 'pandas.core.frame.DataFrame'>\n",
      "RangeIndex: 404290 entries, 0 to 404289\n",
      "Data columns (total 6 columns):\n",
      "id              404290 non-null int64\n",
      "qid1            404290 non-null int64\n",
      "qid2            404290 non-null int64\n",
      "question1       404290 non-null object\n",
      "question2       404288 non-null object\n",
      "is_duplicate    404290 non-null int64\n",
      "dtypes: int64(4), object(2)\n",
      "memory usage: 18.5+ MB\n"
     ]
    }
   ],
   "source": [
    "data.info()"
   ]
  },
  {
   "cell_type": "markdown",
   "metadata": {},
   "source": [
    "Our data has 404,290 entries and 6 columns.<br >\n",
    "The columns hold the following data:\n",
    "<ol>\n",
    "    <li>Id: a unique integer value that represents the id of each entry</li>\n",
    "    <li>qid1: a unique integer value that represents the id of the question'1 text</li>\n",
    "    <li>qid2: a unique integer value that represent the id of the question'2 text</li>\n",
    "    <li>question1: a text that represents the first question</li>\n",
    "    <li>question2: a text that represents the second question</li>\n",
    "    <li>is_duplicate: a value of 0 or 1 that representes whether or not the two question means the same thing</li>\n",
    "</ol>"
   ]
  },
  {
   "cell_type": "markdown",
   "metadata": {},
   "source": [
    "## Check and remove missing entries"
   ]
  },
  {
   "cell_type": "markdown",
   "metadata": {},
   "source": [
    "In the previous section, our data have some missing entries in 'question2'. Let's remove those entries."
   ]
  },
  {
   "cell_type": "code",
   "execution_count": 108,
   "metadata": {},
   "outputs": [
    {
     "name": "stdout",
     "output_type": "stream",
     "text": [
      "Question 1 has 0 missing values\n",
      "Question 2 has 2 missing values\n"
     ]
    }
   ],
   "source": [
    "# let's check missing question entries\n",
    "q1_nan = sum(data.question1.isnull())\n",
    "q2_nan = sum(data.question2.isnull())\n",
    "print('Question 1 has {0} missing values'.format(q1_nan))\n",
    "print('Question 2 has {0} missing values'.format(q2_nan))"
   ]
  },
  {
   "cell_type": "code",
   "execution_count": 109,
   "metadata": {
    "collapsed": true
   },
   "outputs": [],
   "source": [
    "# remove those entries\n",
    "data.drop(data[data.question2.isnull()].index, inplace=True)"
   ]
  },
  {
   "cell_type": "code",
   "execution_count": 110,
   "metadata": {},
   "outputs": [
    {
     "data": {
      "text/html": [
       "<div>\n",
       "<style>\n",
       "    .dataframe thead tr:only-child th {\n",
       "        text-align: right;\n",
       "    }\n",
       "\n",
       "    .dataframe thead th {\n",
       "        text-align: left;\n",
       "    }\n",
       "\n",
       "    .dataframe tbody tr th {\n",
       "        vertical-align: top;\n",
       "    }\n",
       "</style>\n",
       "<table border=\"1\" class=\"dataframe\">\n",
       "  <thead>\n",
       "    <tr style=\"text-align: right;\">\n",
       "      <th></th>\n",
       "      <th>id</th>\n",
       "      <th>qid1</th>\n",
       "      <th>qid2</th>\n",
       "      <th>question1</th>\n",
       "      <th>question2</th>\n",
       "      <th>is_duplicate</th>\n",
       "    </tr>\n",
       "  </thead>\n",
       "  <tbody>\n",
       "  </tbody>\n",
       "</table>\n",
       "</div>"
      ],
      "text/plain": [
       "Empty DataFrame\n",
       "Columns: [id, qid1, qid2, question1, question2, is_duplicate]\n",
       "Index: []"
      ]
     },
     "execution_count": 110,
     "metadata": {},
     "output_type": "execute_result"
    }
   ],
   "source": [
    "# check\n",
    "data[data.question2.isnull()]"
   ]
  },
  {
   "cell_type": "code",
   "execution_count": 111,
   "metadata": {},
   "outputs": [
    {
     "name": "stdout",
     "output_type": "stream",
     "text": [
      "<class 'pandas.core.frame.DataFrame'>\n",
      "Int64Index: 404288 entries, 0 to 404289\n",
      "Data columns (total 6 columns):\n",
      "id              404288 non-null int64\n",
      "qid1            404288 non-null int64\n",
      "qid2            404288 non-null int64\n",
      "question1       404288 non-null object\n",
      "question2       404288 non-null object\n",
      "is_duplicate    404288 non-null int64\n",
      "dtypes: int64(4), object(2)\n",
      "memory usage: 21.6+ MB\n"
     ]
    }
   ],
   "source": [
    "data.info()"
   ]
  },
  {
   "cell_type": "markdown",
   "metadata": {},
   "source": [
    "## Check for duplicates"
   ]
  },
  {
   "cell_type": "markdown",
   "metadata": {},
   "source": [
    "In this section, we will check for duplicate questions. Checking for duplicates is important because our model won't learn if we have lots of repeated entries."
   ]
  },
  {
   "cell_type": "code",
   "execution_count": 112,
   "metadata": {},
   "outputs": [
    {
     "name": "stdout",
     "output_type": "stream",
     "text": [
      "The number of duplicated 'id' is: 0\n",
      "The number of duplicated 'qid1' is 167707\n",
      "The number of duplicated 'qid2' is 150555\n",
      "Proportion of duplicated 'qid1' is 41.48%\n",
      "Proportion of duplicated 'qid2' is 37.24%\n"
     ]
    }
   ],
   "source": [
    "# check for duplicate question ids\n",
    "\n",
    "duplicated_id = data.duplicated('id', keep=False)\n",
    "duplicated_qid1 = data.duplicated('qid1', keep=False)\n",
    "duplicated_qid2 = data.duplicated('qid2', keep=False)\n",
    "\n",
    "sum_dup_id = sum(duplicated_id)\n",
    "sum_dup_qid1 = sum(duplicated_qid1)\n",
    "sum_dup_qid2 = sum(duplicated_qid2)\n",
    "\n",
    "\n",
    "print(\"The number of duplicated 'id' is: {0}\".format(sum_dup_id))\n",
    "print(\"The number of duplicated 'qid1' is {0}\".format(sum_dup_qid1))\n",
    "print(\"The number of duplicated 'qid2' is {0}\".format(sum_dup_qid2))\n",
    "print(\"Proportion of duplicated 'qid1' is {0}%\".format(round(sum_dup_qid1/data.shape[0] * 100, 2) ))\n",
    "print(\"Proportion of duplicated 'qid2' is {0}%\".format(round(sum_dup_qid2/data.shape[0] * 100, 2)))\n",
    "\n"
   ]
  },
  {
   "cell_type": "markdown",
   "metadata": {},
   "source": [
    "We have roughly 41.48% duplicate qid1 and 37.24 duplicate qid2. Next let's check if those ids have the same text data."
   ]
  },
  {
   "cell_type": "code",
   "execution_count": 113,
   "metadata": {
    "collapsed": true
   },
   "outputs": [],
   "source": [
    "q1_dup = data[duplicated_qid1].sort_values('qid1')\n",
    "q2_dup = data[duplicated_qid2].sort_values('qid2')"
   ]
  },
  {
   "cell_type": "code",
   "execution_count": 114,
   "metadata": {},
   "outputs": [
    {
     "data": {
      "text/html": [
       "<div>\n",
       "<style>\n",
       "    .dataframe thead tr:only-child th {\n",
       "        text-align: right;\n",
       "    }\n",
       "\n",
       "    .dataframe thead th {\n",
       "        text-align: left;\n",
       "    }\n",
       "\n",
       "    .dataframe tbody tr th {\n",
       "        vertical-align: top;\n",
       "    }\n",
       "</style>\n",
       "<table border=\"1\" class=\"dataframe\">\n",
       "  <thead>\n",
       "    <tr style=\"text-align: right;\">\n",
       "      <th></th>\n",
       "      <th>id</th>\n",
       "      <th>qid1</th>\n",
       "      <th>qid2</th>\n",
       "      <th>question1</th>\n",
       "      <th>question2</th>\n",
       "      <th>is_duplicate</th>\n",
       "    </tr>\n",
       "  </thead>\n",
       "  <tbody>\n",
       "    <tr>\n",
       "      <th>1</th>\n",
       "      <td>1</td>\n",
       "      <td>3</td>\n",
       "      <td>4</td>\n",
       "      <td>What is the story of Kohinoor (Koh-i-Noor) Dia...</td>\n",
       "      <td>What would happen if the Indian government sto...</td>\n",
       "      <td>0</td>\n",
       "    </tr>\n",
       "    <tr>\n",
       "      <th>359232</th>\n",
       "      <td>359232</td>\n",
       "      <td>3</td>\n",
       "      <td>488853</td>\n",
       "      <td>What is the story of Kohinoor (Koh-i-Noor) Dia...</td>\n",
       "      <td>Could India keep the Koh-I-Noor safe?</td>\n",
       "      <td>0</td>\n",
       "    </tr>\n",
       "    <tr>\n",
       "      <th>263614</th>\n",
       "      <td>263614</td>\n",
       "      <td>3</td>\n",
       "      <td>380197</td>\n",
       "      <td>What is the story of Kohinoor (Koh-i-Noor) Dia...</td>\n",
       "      <td>What are some interesting facts about Kohinoor...</td>\n",
       "      <td>0</td>\n",
       "    </tr>\n",
       "    <tr>\n",
       "      <th>184732</th>\n",
       "      <td>184732</td>\n",
       "      <td>3</td>\n",
       "      <td>282170</td>\n",
       "      <td>What is the story of Kohinoor (Koh-i-Noor) Dia...</td>\n",
       "      <td>Is it possible to melt down diamonds?</td>\n",
       "      <td>0</td>\n",
       "    </tr>\n",
       "    <tr>\n",
       "      <th>4</th>\n",
       "      <td>4</td>\n",
       "      <td>9</td>\n",
       "      <td>10</td>\n",
       "      <td>Which one dissolve in water quikly sugar, salt...</td>\n",
       "      <td>Which fish would survive in salt water?</td>\n",
       "      <td>0</td>\n",
       "    </tr>\n",
       "    <tr>\n",
       "      <th>126071</th>\n",
       "      <td>126071</td>\n",
       "      <td>9</td>\n",
       "      <td>109465</td>\n",
       "      <td>Which one dissolve in water quikly sugar, salt...</td>\n",
       "      <td>Which  freezes faster, sugar water or salt wat...</td>\n",
       "      <td>0</td>\n",
       "    </tr>\n",
       "  </tbody>\n",
       "</table>\n",
       "</div>"
      ],
      "text/plain": [
       "            id  qid1    qid2  \\\n",
       "1            1     3       4   \n",
       "359232  359232     3  488853   \n",
       "263614  263614     3  380197   \n",
       "184732  184732     3  282170   \n",
       "4            4     9      10   \n",
       "126071  126071     9  109465   \n",
       "\n",
       "                                                question1  \\\n",
       "1       What is the story of Kohinoor (Koh-i-Noor) Dia...   \n",
       "359232  What is the story of Kohinoor (Koh-i-Noor) Dia...   \n",
       "263614  What is the story of Kohinoor (Koh-i-Noor) Dia...   \n",
       "184732  What is the story of Kohinoor (Koh-i-Noor) Dia...   \n",
       "4       Which one dissolve in water quikly sugar, salt...   \n",
       "126071  Which one dissolve in water quikly sugar, salt...   \n",
       "\n",
       "                                                question2  is_duplicate  \n",
       "1       What would happen if the Indian government sto...             0  \n",
       "359232              Could India keep the Koh-I-Noor safe?             0  \n",
       "263614  What are some interesting facts about Kohinoor...             0  \n",
       "184732              Is it possible to melt down diamonds?             0  \n",
       "4                 Which fish would survive in salt water?             0  \n",
       "126071  Which  freezes faster, sugar water or salt wat...             0  "
      ]
     },
     "execution_count": 114,
     "metadata": {},
     "output_type": "execute_result"
    }
   ],
   "source": [
    "q1_dup.head(6)"
   ]
  },
  {
   "cell_type": "code",
   "execution_count": 115,
   "metadata": {},
   "outputs": [
    {
     "data": {
      "text/html": [
       "<div>\n",
       "<style>\n",
       "    .dataframe thead tr:only-child th {\n",
       "        text-align: right;\n",
       "    }\n",
       "\n",
       "    .dataframe thead th {\n",
       "        text-align: left;\n",
       "    }\n",
       "\n",
       "    .dataframe tbody tr th {\n",
       "        vertical-align: top;\n",
       "    }\n",
       "</style>\n",
       "<table border=\"1\" class=\"dataframe\">\n",
       "  <thead>\n",
       "    <tr style=\"text-align: right;\">\n",
       "      <th></th>\n",
       "      <th>id</th>\n",
       "      <th>qid1</th>\n",
       "      <th>qid2</th>\n",
       "      <th>question1</th>\n",
       "      <th>question2</th>\n",
       "      <th>is_duplicate</th>\n",
       "    </tr>\n",
       "  </thead>\n",
       "  <tbody>\n",
       "    <tr>\n",
       "      <th>8</th>\n",
       "      <td>8</td>\n",
       "      <td>17</td>\n",
       "      <td>18</td>\n",
       "      <td>When do you use シ instead of し?</td>\n",
       "      <td>When do you use \"&amp;\" instead of \"and\"?</td>\n",
       "      <td>0</td>\n",
       "    </tr>\n",
       "    <tr>\n",
       "      <th>402369</th>\n",
       "      <td>402369</td>\n",
       "      <td>38436</td>\n",
       "      <td>18</td>\n",
       "      <td>When do you use \"into\" instead of \"in to\"?</td>\n",
       "      <td>When do you use \"&amp;\" instead of \"and\"?</td>\n",
       "      <td>0</td>\n",
       "    </tr>\n",
       "    <tr>\n",
       "      <th>65735</th>\n",
       "      <td>65735</td>\n",
       "      <td>114035</td>\n",
       "      <td>26</td>\n",
       "      <td>Is there a way to make learning physics easier?</td>\n",
       "      <td>How can you make physics easy to learn?</td>\n",
       "      <td>1</td>\n",
       "    </tr>\n",
       "    <tr>\n",
       "      <th>12</th>\n",
       "      <td>12</td>\n",
       "      <td>25</td>\n",
       "      <td>26</td>\n",
       "      <td>What can make Physics easy to learn?</td>\n",
       "      <td>How can you make physics easy to learn?</td>\n",
       "      <td>1</td>\n",
       "    </tr>\n",
       "    <tr>\n",
       "      <th>13</th>\n",
       "      <td>13</td>\n",
       "      <td>27</td>\n",
       "      <td>28</td>\n",
       "      <td>What was your first sexual experience like?</td>\n",
       "      <td>What was your first sexual experience?</td>\n",
       "      <td>1</td>\n",
       "    </tr>\n",
       "    <tr>\n",
       "      <th>27051</th>\n",
       "      <td>27051</td>\n",
       "      <td>50277</td>\n",
       "      <td>28</td>\n",
       "      <td>What is your first sexual experience?</td>\n",
       "      <td>What was your first sexual experience?</td>\n",
       "      <td>1</td>\n",
       "    </tr>\n",
       "  </tbody>\n",
       "</table>\n",
       "</div>"
      ],
      "text/plain": [
       "            id    qid1  qid2                                        question1  \\\n",
       "8            8      17    18                  When do you use シ instead of し?   \n",
       "402369  402369   38436    18       When do you use \"into\" instead of \"in to\"?   \n",
       "65735    65735  114035    26  Is there a way to make learning physics easier?   \n",
       "12          12      25    26             What can make Physics easy to learn?   \n",
       "13          13      27    28      What was your first sexual experience like?   \n",
       "27051    27051   50277    28            What is your first sexual experience?   \n",
       "\n",
       "                                      question2  is_duplicate  \n",
       "8         When do you use \"&\" instead of \"and\"?             0  \n",
       "402369    When do you use \"&\" instead of \"and\"?             0  \n",
       "65735   How can you make physics easy to learn?             1  \n",
       "12      How can you make physics easy to learn?             1  \n",
       "13       What was your first sexual experience?             1  \n",
       "27051    What was your first sexual experience?             1  "
      ]
     },
     "execution_count": 115,
     "metadata": {},
     "output_type": "execute_result"
    }
   ],
   "source": [
    "q2_dup.head(6)"
   ]
  },
  {
   "cell_type": "markdown",
   "metadata": {},
   "source": [
    "We have checked and seen that the duplicate question ids have the same text data. Next,  let's look at the pair of duplicate questions."
   ]
  },
  {
   "cell_type": "code",
   "execution_count": 116,
   "metadata": {},
   "outputs": [
    {
     "data": {
      "text/html": [
       "<div>\n",
       "<style>\n",
       "    .dataframe thead tr:only-child th {\n",
       "        text-align: right;\n",
       "    }\n",
       "\n",
       "    .dataframe thead th {\n",
       "        text-align: left;\n",
       "    }\n",
       "\n",
       "    .dataframe tbody tr th {\n",
       "        vertical-align: top;\n",
       "    }\n",
       "</style>\n",
       "<table border=\"1\" class=\"dataframe\">\n",
       "  <thead>\n",
       "    <tr style=\"text-align: right;\">\n",
       "      <th></th>\n",
       "      <th>id</th>\n",
       "      <th>qid1</th>\n",
       "      <th>qid2</th>\n",
       "      <th>question1</th>\n",
       "      <th>question2</th>\n",
       "      <th>is_duplicate</th>\n",
       "    </tr>\n",
       "  </thead>\n",
       "  <tbody>\n",
       "  </tbody>\n",
       "</table>\n",
       "</div>"
      ],
      "text/plain": [
       "Empty DataFrame\n",
       "Columns: [id, qid1, qid2, question1, question2, is_duplicate]\n",
       "Index: []"
      ]
     },
     "execution_count": 116,
     "metadata": {},
     "output_type": "execute_result"
    }
   ],
   "source": [
    "# check if we have duplicate question ids pairs\n",
    "dup_pair = data.duplicated(['qid1', 'qid2'], keep=False) \n",
    "data[dup_pair]"
   ]
  },
  {
   "cell_type": "markdown",
   "metadata": {},
   "source": [
    "Even though we have duplicate qid1 and qid2, we do not have duplicate pairs. Which is good for our training."
   ]
  },
  {
   "cell_type": "markdown",
   "metadata": {},
   "source": [
    "## Text Analysis"
   ]
  },
  {
   "cell_type": "markdown",
   "metadata": {},
   "source": [
    "In this section we will perform text analysis on our data. The text analysis will involve :\n",
    "<ol>\n",
    "    <li>Removing all non-alphanumeric characters</li>\n",
    "</ol>"
   ]
  },
  {
   "cell_type": "code",
   "execution_count": 117,
   "metadata": {
    "collapsed": true
   },
   "outputs": [],
   "source": [
    "# Remove all non-alphanumeric token in our corpus\n",
    "data['question1'] = data['question1'].apply(clean_str)\n",
    "data['question2'] = data['question2'].apply(clean_str)"
   ]
  },
  {
   "cell_type": "code",
   "execution_count": 118,
   "metadata": {},
   "outputs": [
    {
     "data": {
      "text/html": [
       "<div>\n",
       "<style>\n",
       "    .dataframe thead tr:only-child th {\n",
       "        text-align: right;\n",
       "    }\n",
       "\n",
       "    .dataframe thead th {\n",
       "        text-align: left;\n",
       "    }\n",
       "\n",
       "    .dataframe tbody tr th {\n",
       "        vertical-align: top;\n",
       "    }\n",
       "</style>\n",
       "<table border=\"1\" class=\"dataframe\">\n",
       "  <thead>\n",
       "    <tr style=\"text-align: right;\">\n",
       "      <th></th>\n",
       "      <th>id</th>\n",
       "      <th>qid1</th>\n",
       "      <th>qid2</th>\n",
       "      <th>question1</th>\n",
       "      <th>question2</th>\n",
       "      <th>is_duplicate</th>\n",
       "    </tr>\n",
       "  </thead>\n",
       "  <tbody>\n",
       "    <tr>\n",
       "      <th>0</th>\n",
       "      <td>0</td>\n",
       "      <td>1</td>\n",
       "      <td>2</td>\n",
       "      <td>what is the step by step guide to invest in sh...</td>\n",
       "      <td>what is the step by step guide to invest in sh...</td>\n",
       "      <td>0</td>\n",
       "    </tr>\n",
       "    <tr>\n",
       "      <th>1</th>\n",
       "      <td>1</td>\n",
       "      <td>3</td>\n",
       "      <td>4</td>\n",
       "      <td>what is the story of kohinoor  ( koh i noor ) ...</td>\n",
       "      <td>what would happen if the indian government sto...</td>\n",
       "      <td>0</td>\n",
       "    </tr>\n",
       "    <tr>\n",
       "      <th>2</th>\n",
       "      <td>2</td>\n",
       "      <td>5</td>\n",
       "      <td>6</td>\n",
       "      <td>how can i increase the speed of my internet co...</td>\n",
       "      <td>how can internet speed be increased by hacking...</td>\n",
       "      <td>0</td>\n",
       "    </tr>\n",
       "    <tr>\n",
       "      <th>3</th>\n",
       "      <td>3</td>\n",
       "      <td>7</td>\n",
       "      <td>8</td>\n",
       "      <td>why am i mentally very lonely ?  how can i sol...</td>\n",
       "      <td>find the remainder when  math 23  24   math  i...</td>\n",
       "      <td>0</td>\n",
       "    </tr>\n",
       "    <tr>\n",
       "      <th>4</th>\n",
       "      <td>4</td>\n",
       "      <td>9</td>\n",
       "      <td>10</td>\n",
       "      <td>which one dissolve in water quikly sugar ,  sa...</td>\n",
       "      <td>which fish would survive in salt water ?</td>\n",
       "      <td>0</td>\n",
       "    </tr>\n",
       "  </tbody>\n",
       "</table>\n",
       "</div>"
      ],
      "text/plain": [
       "   id  qid1  qid2                                          question1  \\\n",
       "0   0     1     2  what is the step by step guide to invest in sh...   \n",
       "1   1     3     4  what is the story of kohinoor  ( koh i noor ) ...   \n",
       "2   2     5     6  how can i increase the speed of my internet co...   \n",
       "3   3     7     8  why am i mentally very lonely ?  how can i sol...   \n",
       "4   4     9    10  which one dissolve in water quikly sugar ,  sa...   \n",
       "\n",
       "                                           question2  is_duplicate  \n",
       "0  what is the step by step guide to invest in sh...             0  \n",
       "1  what would happen if the indian government sto...             0  \n",
       "2  how can internet speed be increased by hacking...             0  \n",
       "3  find the remainder when  math 23  24   math  i...             0  \n",
       "4           which fish would survive in salt water ?             0  "
      ]
     },
     "execution_count": 118,
     "metadata": {},
     "output_type": "execute_result"
    }
   ],
   "source": [
    "data.head()"
   ]
  },
  {
   "cell_type": "code",
   "execution_count": 119,
   "metadata": {},
   "outputs": [
    {
     "name": "stdout",
     "output_type": "stream",
     "text": [
      "question 1: what is the step by step guide to invest in share market in india ?\n",
      "question 2: what is the step by step guide to invest in share market ?\n",
      "is duplicate: 0\n",
      "\n",
      "question 1: what is the story of kohinoor  ( koh i noor )  diamond ?\n",
      "question 2: what would happen if the indian government stole the kohinoor  ( koh i noor )  diamond back ?\n",
      "is duplicate: 0\n",
      "\n",
      "question 1: how can i increase the speed of my internet connection while using a vpn ?\n",
      "question 2: how can internet speed be increased by hacking through dns ?\n",
      "is duplicate: 0\n",
      "\n",
      "question 1: why am i mentally very lonely ?  how can i solve it ?\n",
      "question 2: find the remainder when  math 23  24   math  is divided by 24 , 23 ?\n",
      "is duplicate: 0\n",
      "\n",
      "question 1: which one dissolve in water quikly sugar ,  salt ,  methane and carbon di oxide ?\n",
      "question 2: which fish would survive in salt water ?\n",
      "is duplicate: 0\n",
      "\n"
     ]
    }
   ],
   "source": [
    "for i in range(5):\n",
    "    print(\"question 1: {0}\".format(data['question1'][i]))\n",
    "    print(\"question 2: {0}\".format(data['question2'][i]))\n",
    "    print(\"is duplicate: {0}\".format(data['is_duplicate'][i]))\n",
    "    print()"
   ]
  },
  {
   "cell_type": "markdown",
   "metadata": {},
   "source": [
    "## Visualization"
   ]
  },
  {
   "cell_type": "markdown",
   "metadata": {},
   "source": [
    "In this section, we will perform some visualizations"
   ]
  },
  {
   "cell_type": "code",
   "execution_count": 120,
   "metadata": {
    "collapsed": true
   },
   "outputs": [],
   "source": [
    "d = data.groupby(['is_duplicate'])[['id']].count()"
   ]
  },
  {
   "cell_type": "code",
   "execution_count": 121,
   "metadata": {},
   "outputs": [
    {
     "data": {
      "text/html": [
       "<div>\n",
       "<style>\n",
       "    .dataframe thead tr:only-child th {\n",
       "        text-align: right;\n",
       "    }\n",
       "\n",
       "    .dataframe thead th {\n",
       "        text-align: left;\n",
       "    }\n",
       "\n",
       "    .dataframe tbody tr th {\n",
       "        vertical-align: top;\n",
       "    }\n",
       "</style>\n",
       "<table border=\"1\" class=\"dataframe\">\n",
       "  <thead>\n",
       "    <tr style=\"text-align: right;\">\n",
       "      <th></th>\n",
       "      <th>id</th>\n",
       "    </tr>\n",
       "    <tr>\n",
       "      <th>is_duplicate</th>\n",
       "      <th></th>\n",
       "    </tr>\n",
       "  </thead>\n",
       "  <tbody>\n",
       "    <tr>\n",
       "      <th>0</th>\n",
       "      <td>255025</td>\n",
       "    </tr>\n",
       "    <tr>\n",
       "      <th>1</th>\n",
       "      <td>149263</td>\n",
       "    </tr>\n",
       "  </tbody>\n",
       "</table>\n",
       "</div>"
      ],
      "text/plain": [
       "                  id\n",
       "is_duplicate        \n",
       "0             255025\n",
       "1             149263"
      ]
     },
     "execution_count": 121,
     "metadata": {},
     "output_type": "execute_result"
    }
   ],
   "source": [
    "d"
   ]
  },
  {
   "cell_type": "code",
   "execution_count": 122,
   "metadata": {},
   "outputs": [
    {
     "data": {
      "text/plain": [
       "is_duplicate\n",
       "0    63.080032\n",
       "1    36.919968\n",
       "Name: id, dtype: float64"
      ]
     },
     "execution_count": 122,
     "metadata": {},
     "output_type": "execute_result"
    }
   ],
   "source": [
    "d['id']/data.shape[0] * 100"
   ]
  },
  {
   "cell_type": "code",
   "execution_count": 123,
   "metadata": {},
   "outputs": [
    {
     "data": {
      "image/png": "[encoded data removed]",
      "text/plain": [
       "<matplotlib.figure.Figure at 0x7f67740eeeb8>"
      ]
     },
     "metadata": {},
     "output_type": "display_data"
    }
   ],
   "source": [
    "sns.countplot(x='is_duplicate', data=data)\n",
    "plt.title('non-duplicates vs duplicates')\n",
    "plt.show()"
   ]
  },
  {
   "cell_type": "markdown",
   "metadata": {},
   "source": [
    "Our dataset has roughly 63% of nonduplicate entries and 37% of duplicate entries. Next, let's look at the questions length distribution."
   ]
  },
  {
   "cell_type": "code",
   "execution_count": 124,
   "metadata": {
    "collapsed": true
   },
   "outputs": [],
   "source": [
    "data['question1'] = data['question1'].apply(lambda x: x.split())\n",
    "data['question2'] = data['question2'].apply(lambda x: x.split())"
   ]
  },
  {
   "cell_type": "code",
   "execution_count": 125,
   "metadata": {
    "collapsed": true
   },
   "outputs": [],
   "source": [
    "data['q1_len'] = data['question1'].apply(len)\n",
    "data['q2_len'] = data['question2'].apply(len)"
   ]
  },
  {
   "cell_type": "code",
   "execution_count": 126,
   "metadata": {
    "collapsed": true
   },
   "outputs": [],
   "source": [
    "d_1 = data['q1_len'] == 0\n",
    "d_2 = data['q2_len'] == 0\n",
    "\n",
    "ind_1 = data[d_1].index\n",
    "ind_2 = data[d_2].index\n",
    "ind = ind_1.append(ind_2)"
   ]
  },
  {
   "cell_type": "code",
   "execution_count": 127,
   "metadata": {},
   "outputs": [
    {
     "data": {
      "text/plain": [
       "Int64Index([3306, 190570, 290090, 301583, 20072, 144343, 384293], dtype='int64')"
      ]
     },
     "execution_count": 127,
     "metadata": {},
     "output_type": "execute_result"
    }
   ],
   "source": [
    "ind"
   ]
  },
  {
   "cell_type": "code",
   "execution_count": 128,
   "metadata": {},
   "outputs": [
    {
     "data": {
      "text/html": [
       "<div>\n",
       "<style>\n",
       "    .dataframe thead tr:only-child th {\n",
       "        text-align: right;\n",
       "    }\n",
       "\n",
       "    .dataframe thead th {\n",
       "        text-align: left;\n",
       "    }\n",
       "\n",
       "    .dataframe tbody tr th {\n",
       "        vertical-align: top;\n",
       "    }\n",
       "</style>\n",
       "<table border=\"1\" class=\"dataframe\">\n",
       "  <thead>\n",
       "    <tr style=\"text-align: right;\">\n",
       "      <th></th>\n",
       "      <th>id</th>\n",
       "      <th>qid1</th>\n",
       "      <th>qid2</th>\n",
       "      <th>question1</th>\n",
       "      <th>question2</th>\n",
       "      <th>is_duplicate</th>\n",
       "      <th>q1_len</th>\n",
       "      <th>q2_len</th>\n",
       "    </tr>\n",
       "  </thead>\n",
       "  <tbody>\n",
       "    <tr>\n",
       "      <th>0</th>\n",
       "      <td>0</td>\n",
       "      <td>1</td>\n",
       "      <td>2</td>\n",
       "      <td>[what, is, the, step, by, step, guide, to, inv...</td>\n",
       "      <td>[what, is, the, step, by, step, guide, to, inv...</td>\n",
       "      <td>0</td>\n",
       "      <td>15</td>\n",
       "      <td>13</td>\n",
       "    </tr>\n",
       "    <tr>\n",
       "      <th>1</th>\n",
       "      <td>1</td>\n",
       "      <td>3</td>\n",
       "      <td>4</td>\n",
       "      <td>[what, is, the, story, of, kohinoor, (, koh, i...</td>\n",
       "      <td>[what, would, happen, if, the, indian, governm...</td>\n",
       "      <td>0</td>\n",
       "      <td>13</td>\n",
       "      <td>18</td>\n",
       "    </tr>\n",
       "    <tr>\n",
       "      <th>2</th>\n",
       "      <td>2</td>\n",
       "      <td>5</td>\n",
       "      <td>6</td>\n",
       "      <td>[how, can, i, increase, the, speed, of, my, in...</td>\n",
       "      <td>[how, can, internet, speed, be, increased, by,...</td>\n",
       "      <td>0</td>\n",
       "      <td>15</td>\n",
       "      <td>11</td>\n",
       "    </tr>\n",
       "    <tr>\n",
       "      <th>3</th>\n",
       "      <td>3</td>\n",
       "      <td>7</td>\n",
       "      <td>8</td>\n",
       "      <td>[why, am, i, mentally, very, lonely, ?, how, c...</td>\n",
       "      <td>[find, the, remainder, when, math, 23, 24, mat...</td>\n",
       "      <td>0</td>\n",
       "      <td>13</td>\n",
       "      <td>15</td>\n",
       "    </tr>\n",
       "    <tr>\n",
       "      <th>4</th>\n",
       "      <td>4</td>\n",
       "      <td>9</td>\n",
       "      <td>10</td>\n",
       "      <td>[which, one, dissolve, in, water, quikly, suga...</td>\n",
       "      <td>[which, fish, would, survive, in, salt, water, ?]</td>\n",
       "      <td>0</td>\n",
       "      <td>16</td>\n",
       "      <td>8</td>\n",
       "    </tr>\n",
       "  </tbody>\n",
       "</table>\n",
       "</div>"
      ],
      "text/plain": [
       "   id  qid1  qid2                                          question1  \\\n",
       "0   0     1     2  [what, is, the, step, by, step, guide, to, inv...   \n",
       "1   1     3     4  [what, is, the, story, of, kohinoor, (, koh, i...   \n",
       "2   2     5     6  [how, can, i, increase, the, speed, of, my, in...   \n",
       "3   3     7     8  [why, am, i, mentally, very, lonely, ?, how, c...   \n",
       "4   4     9    10  [which, one, dissolve, in, water, quikly, suga...   \n",
       "\n",
       "                                           question2  is_duplicate  q1_len  \\\n",
       "0  [what, is, the, step, by, step, guide, to, inv...             0      15   \n",
       "1  [what, would, happen, if, the, indian, governm...             0      13   \n",
       "2  [how, can, internet, speed, be, increased, by,...             0      15   \n",
       "3  [find, the, remainder, when, math, 23, 24, mat...             0      13   \n",
       "4  [which, fish, would, survive, in, salt, water, ?]             0      16   \n",
       "\n",
       "   q2_len  \n",
       "0      13  \n",
       "1      18  \n",
       "2      11  \n",
       "3      15  \n",
       "4       8  "
      ]
     },
     "execution_count": 128,
     "metadata": {},
     "output_type": "execute_result"
    }
   ],
   "source": [
    "# remove empty questions\n",
    "data = data.drop(ind)\n",
    "data.head()"
   ]
  },
  {
   "cell_type": "code",
   "execution_count": 129,
   "metadata": {},
   "outputs": [
    {
     "data": {
      "image/png": "[encoded data removed]",
      "text/plain": [
       "<matplotlib.figure.Figure at 0x7f66985c14e0>"
      ]
     },
     "metadata": {},
     "output_type": "display_data"
    }
   ],
   "source": [
    "# what is the age distribution?\n",
    "fig, axs = plt.subplots(ncols=2, sharey=True, figsize=(10, 5))\n",
    "sns.distplot(data['q1_len'], hist_kws={'color': 'Teal'},bins=5, kde_kws={'color': 'green'}, ax=axs[0], label='question1');\n",
    "axs[0].set(title='Question 1 length Distribution')\n",
    "axs[0].set(ylabel='Probability Density')\n",
    "sns.distplot(data['q2_len'], bins=5,hist_kws={'color': 'yellow'}, kde_kws={'color': 'blue'}, ax=axs[1], label='question2' );\n",
    "axs[1].set(title='Question 2 length')\n",
    "plt.show()"
   ]
  },
  {
   "cell_type": "markdown",
   "metadata": {},
   "source": [
    "Both sentences are right skewed."
   ]
  },
  {
   "cell_type": "code",
   "execution_count": 130,
   "metadata": {
    "collapsed": true
   },
   "outputs": [],
   "source": [
    "data.drop(['qid1', 'qid2','id','q1_len', 'q2_len'], axis=1, inplace=True)"
   ]
  },
  {
   "cell_type": "code",
   "execution_count": 131,
   "metadata": {},
   "outputs": [
    {
     "data": {
      "text/plain": [
       "(404281, 3)"
      ]
     },
     "execution_count": 131,
     "metadata": {},
     "output_type": "execute_result"
    }
   ],
   "source": [
    "data.shape"
   ]
  },
  {
   "cell_type": "markdown",
   "metadata": {},
   "source": [
    "## Prepare our data for a convolutional neural network model"
   ]
  },
  {
   "cell_type": "markdown",
   "metadata": {},
   "source": [
    "In this section, we will make our data suitable for a convolutional neural network archittecture. We will perform the following steps:\n",
    "<ol>\n",
    "    <li>Pad our sentences with empty string to make them have the same length. </li>\n",
    "    <li>Build our word representations model and replace all question text with their corresponding vector space representations.</li>\n",
    "    <li>Split our data into training data and test data.</li>\n",
    "</ol>"
   ]
  },
  {
   "cell_type": "markdown",
   "metadata": {},
   "source": [
    "### 1. Pad sentences"
   ]
  },
  {
   "cell_type": "markdown",
   "metadata": {},
   "source": [
    "In other for our sentences to all have the same length, we have padded with empty string all sentences that have a number of tokens less than 40, and we have taken only the first 40 tokens for sentences that have more than 40 tokens."
   ]
  },
  {
   "cell_type": "code",
   "execution_count": 132,
   "metadata": {
    "collapsed": true
   },
   "outputs": [],
   "source": [
    "data_cnn = data.copy()"
   ]
  },
  {
   "cell_type": "code",
   "execution_count": 133,
   "metadata": {},
   "outputs": [
    {
     "data": {
      "text/html": [
       "<div>\n",
       "<style>\n",
       "    .dataframe thead tr:only-child th {\n",
       "        text-align: right;\n",
       "    }\n",
       "\n",
       "    .dataframe thead th {\n",
       "        text-align: left;\n",
       "    }\n",
       "\n",
       "    .dataframe tbody tr th {\n",
       "        vertical-align: top;\n",
       "    }\n",
       "</style>\n",
       "<table border=\"1\" class=\"dataframe\">\n",
       "  <thead>\n",
       "    <tr style=\"text-align: right;\">\n",
       "      <th></th>\n",
       "      <th>question1</th>\n",
       "      <th>question2</th>\n",
       "      <th>is_duplicate</th>\n",
       "    </tr>\n",
       "  </thead>\n",
       "  <tbody>\n",
       "    <tr>\n",
       "      <th>0</th>\n",
       "      <td>[what, is, the, step, by, step, guide, to, inv...</td>\n",
       "      <td>[what, is, the, step, by, step, guide, to, inv...</td>\n",
       "      <td>0</td>\n",
       "    </tr>\n",
       "    <tr>\n",
       "      <th>1</th>\n",
       "      <td>[what, is, the, story, of, kohinoor, (, koh, i...</td>\n",
       "      <td>[what, would, happen, if, the, indian, governm...</td>\n",
       "      <td>0</td>\n",
       "    </tr>\n",
       "    <tr>\n",
       "      <th>2</th>\n",
       "      <td>[how, can, i, increase, the, speed, of, my, in...</td>\n",
       "      <td>[how, can, internet, speed, be, increased, by,...</td>\n",
       "      <td>0</td>\n",
       "    </tr>\n",
       "    <tr>\n",
       "      <th>3</th>\n",
       "      <td>[why, am, i, mentally, very, lonely, ?, how, c...</td>\n",
       "      <td>[find, the, remainder, when, math, 23, 24, mat...</td>\n",
       "      <td>0</td>\n",
       "    </tr>\n",
       "    <tr>\n",
       "      <th>4</th>\n",
       "      <td>[which, one, dissolve, in, water, quikly, suga...</td>\n",
       "      <td>[which, fish, would, survive, in, salt, water, ?]</td>\n",
       "      <td>0</td>\n",
       "    </tr>\n",
       "  </tbody>\n",
       "</table>\n",
       "</div>"
      ],
      "text/plain": [
       "                                           question1  \\\n",
       "0  [what, is, the, step, by, step, guide, to, inv...   \n",
       "1  [what, is, the, story, of, kohinoor, (, koh, i...   \n",
       "2  [how, can, i, increase, the, speed, of, my, in...   \n",
       "3  [why, am, i, mentally, very, lonely, ?, how, c...   \n",
       "4  [which, one, dissolve, in, water, quikly, suga...   \n",
       "\n",
       "                                           question2  is_duplicate  \n",
       "0  [what, is, the, step, by, step, guide, to, inv...             0  \n",
       "1  [what, would, happen, if, the, indian, governm...             0  \n",
       "2  [how, can, internet, speed, be, increased, by,...             0  \n",
       "3  [find, the, remainder, when, math, 23, 24, mat...             0  \n",
       "4  [which, fish, would, survive, in, salt, water, ?]             0  "
      ]
     },
     "execution_count": 133,
     "metadata": {},
     "output_type": "execute_result"
    }
   ],
   "source": [
    "data_cnn.head()"
   ]
  },
  {
   "cell_type": "code",
   "execution_count": 134,
   "metadata": {
    "collapsed": true
   },
   "outputs": [],
   "source": [
    "# take only the first words \n",
    "data_cnn['question1'] = data_cnn['question1'].apply(lambda x: x + ['']*(40 - len(x)) if len(x) < 40 else x[:40])\n",
    "data_cnn['question2'] = data_cnn['question2'].apply(lambda x: x + ['']*(40 - len(x)) if len(x) < 40 else x[:40])"
   ]
  },
  {
   "cell_type": "code",
   "execution_count": 135,
   "metadata": {},
   "outputs": [
    {
     "data": {
      "text/html": [
       "<div>\n",
       "<style>\n",
       "    .dataframe thead tr:only-child th {\n",
       "        text-align: right;\n",
       "    }\n",
       "\n",
       "    .dataframe thead th {\n",
       "        text-align: left;\n",
       "    }\n",
       "\n",
       "    .dataframe tbody tr th {\n",
       "        vertical-align: top;\n",
       "    }\n",
       "</style>\n",
       "<table border=\"1\" class=\"dataframe\">\n",
       "  <thead>\n",
       "    <tr style=\"text-align: right;\">\n",
       "      <th></th>\n",
       "      <th>question1</th>\n",
       "      <th>question2</th>\n",
       "      <th>is_duplicate</th>\n",
       "    </tr>\n",
       "  </thead>\n",
       "  <tbody>\n",
       "    <tr>\n",
       "      <th>0</th>\n",
       "      <td>[what, is, the, step, by, step, guide, to, inv...</td>\n",
       "      <td>[what, is, the, step, by, step, guide, to, inv...</td>\n",
       "      <td>0</td>\n",
       "    </tr>\n",
       "    <tr>\n",
       "      <th>1</th>\n",
       "      <td>[what, is, the, story, of, kohinoor, (, koh, i...</td>\n",
       "      <td>[what, would, happen, if, the, indian, governm...</td>\n",
       "      <td>0</td>\n",
       "    </tr>\n",
       "    <tr>\n",
       "      <th>2</th>\n",
       "      <td>[how, can, i, increase, the, speed, of, my, in...</td>\n",
       "      <td>[how, can, internet, speed, be, increased, by,...</td>\n",
       "      <td>0</td>\n",
       "    </tr>\n",
       "    <tr>\n",
       "      <th>3</th>\n",
       "      <td>[why, am, i, mentally, very, lonely, ?, how, c...</td>\n",
       "      <td>[find, the, remainder, when, math, 23, 24, mat...</td>\n",
       "      <td>0</td>\n",
       "    </tr>\n",
       "    <tr>\n",
       "      <th>4</th>\n",
       "      <td>[which, one, dissolve, in, water, quikly, suga...</td>\n",
       "      <td>[which, fish, would, survive, in, salt, water,...</td>\n",
       "      <td>0</td>\n",
       "    </tr>\n",
       "  </tbody>\n",
       "</table>\n",
       "</div>"
      ],
      "text/plain": [
       "                                           question1  \\\n",
       "0  [what, is, the, step, by, step, guide, to, inv...   \n",
       "1  [what, is, the, story, of, kohinoor, (, koh, i...   \n",
       "2  [how, can, i, increase, the, speed, of, my, in...   \n",
       "3  [why, am, i, mentally, very, lonely, ?, how, c...   \n",
       "4  [which, one, dissolve, in, water, quikly, suga...   \n",
       "\n",
       "                                           question2  is_duplicate  \n",
       "0  [what, is, the, step, by, step, guide, to, inv...             0  \n",
       "1  [what, would, happen, if, the, indian, governm...             0  \n",
       "2  [how, can, internet, speed, be, increased, by,...             0  \n",
       "3  [find, the, remainder, when, math, 23, 24, mat...             0  \n",
       "4  [which, fish, would, survive, in, salt, water,...             0  "
      ]
     },
     "execution_count": 135,
     "metadata": {},
     "output_type": "execute_result"
    }
   ],
   "source": [
    "data_cnn.head()"
   ]
  },
  {
   "cell_type": "markdown",
   "metadata": {},
   "source": [
    "### 2. Word representations"
   ]
  },
  {
   "cell_type": "code",
   "execution_count": 136,
   "metadata": {
    "collapsed": true
   },
   "outputs": [],
   "source": [
    "# get all the questions\n",
    "questions = data_cnn['question1'].append(data_cnn['question2'], ignore_index=True).tolist()"
   ]
  },
  {
   "cell_type": "code",
   "execution_count": 137,
   "metadata": {
    "collapsed": true
   },
   "outputs": [],
   "source": [
    "# build word2vec model using only 100 features\n",
    "num_features = 100\n",
    "min_word_count = 1\n",
    "num_workers = multiprocessing.cpu_count()\n",
    "context_size = 5\n",
    "downsampling = 1e-3\n",
    "seed = 10\n",
    "sg=1"
   ]
  },
  {
   "cell_type": "code",
   "execution_count": 138,
   "metadata": {
    "collapsed": true
   },
   "outputs": [],
   "source": [
    "model = Word2VecModel()\n",
    "model.create_w2v_model(questions, num_features, min_word_count, context_size,\n",
    "                         sg, downsampling, seed)"
   ]
  },
  {
   "cell_type": "code",
   "execution_count": 139,
   "metadata": {
    "collapsed": true
   },
   "outputs": [],
   "source": [
    "data_cnn['question1'] = data_cnn['question1'].apply(lambda x: get_w2v_vector(model._model, x, vector_size=100))\n",
    "data_cnn['question2'] = data_cnn['question2'].apply(lambda x: get_w2v_vector(model._model, x, vector_size=100))"
   ]
  },
  {
   "cell_type": "markdown",
   "metadata": {},
   "source": [
    "### 3. Split data"
   ]
  },
  {
   "cell_type": "markdown",
   "metadata": {},
   "source": [
    "In this section, we will split the data into training and test sets. We won't use all the data, we will take all the records with 'is_duplicate' value of 1 and randomly select records with 'is_duplicate' value of 0. The final dataset will have the same proportion of duplicate and non-duplicate data."
   ]
  },
  {
   "cell_type": "code",
   "execution_count": 140,
   "metadata": {},
   "outputs": [
    {
     "data": {
      "text/plain": [
       "(404281, 3)"
      ]
     },
     "execution_count": 140,
     "metadata": {},
     "output_type": "execute_result"
    }
   ],
   "source": [
    "# get the shape\n",
    "data_cnn.shape"
   ]
  },
  {
   "cell_type": "code",
   "execution_count": 142,
   "metadata": {
    "collapsed": true
   },
   "outputs": [],
   "source": [
    "# split a data into duplicate and not duplicate\n",
    "data_dup = data_cnn[data_cnn['is_duplicate'] == 1]\n",
    "data_nondup = data_cnn[data_cnn['is_duplicate'] == 0]"
   ]
  },
  {
   "cell_type": "code",
   "execution_count": 143,
   "metadata": {
    "collapsed": true
   },
   "outputs": [],
   "source": [
    "# get the number of duplicate \n",
    "number_elt = data_dup.shape[0]"
   ]
  },
  {
   "cell_type": "code",
   "execution_count": 144,
   "metadata": {
    "collapsed": true
   },
   "outputs": [],
   "source": [
    "# sample non duplicate data so that duplicate and non duplicate have the same size\n",
    "non_dup = data_nondup.sample(n=number_elt, random_state=seed)"
   ]
  },
  {
   "cell_type": "code",
   "execution_count": 145,
   "metadata": {
    "collapsed": true
   },
   "outputs": [],
   "source": [
    "data_cnn_final = pd.concat([non_dup, data_dup])"
   ]
  },
  {
   "cell_type": "code",
   "execution_count": 146,
   "metadata": {
    "collapsed": true
   },
   "outputs": [],
   "source": [
    "# split the data into training and test dataset \n",
    "train, test = train_test_split(data_cnn_final, test_size=0.1, random_state=seed)"
   ]
  },
  {
   "cell_type": "code",
   "execution_count": 147,
   "metadata": {},
   "outputs": [
    {
     "name": "stdout",
     "output_type": "stream",
     "text": [
      "(268673, 3)\n",
      "(29853, 3)\n"
     ]
    }
   ],
   "source": [
    "print(train.shape)\n",
    "print(test.shape)"
   ]
  },
  {
   "cell_type": "code",
   "execution_count": 148,
   "metadata": {
    "collapsed": true
   },
   "outputs": [],
   "source": [
    "train.to_pickle('data/quora_cnn_train.pickle')\n",
    "test.to_pickle('data/quora_cnn_test.pickle')"
   ]
  },
  {
   "cell_type": "markdown",
   "metadata": {},
   "source": [
    "Our data is ready to be used in a convolutional neural network archittecture."
   ]
  },
  {
   "cell_type": "markdown",
   "metadata": {},
   "source": [
    "## Prepare data for xgboost model"
   ]
  },
  {
   "cell_type": "markdown",
   "metadata": {},
   "source": [
    "In this section, we will prepare our data to be suitable for XGBoost model.\n",
    "We will perform the following step:\n",
    "<ol>\n",
    "    <li>Prepare our text data by removing punctuation and stopwords.</li>\n",
    "    <li>Perform additional features engineering.</li>\n",
    "    <li>Split the data into train, test</li>\n",
    "</ol>\n"
   ]
  },
  {
   "cell_type": "markdown",
   "metadata": {},
   "source": [
    "### 1. Remove punctuations and stopwords"
   ]
  },
  {
   "cell_type": "code",
   "execution_count": 35,
   "metadata": {
    "collapsed": true
   },
   "outputs": [],
   "source": [
    "# get a copy \n",
    "data_xgb = data.copy()"
   ]
  },
  {
   "cell_type": "code",
   "execution_count": 36,
   "metadata": {
    "collapsed": true
   },
   "outputs": [],
   "source": [
    "# remove punctuation in our corpus\n",
    "data_xgb['question1'] = data_xgb['question1'].apply(lambda x: remove_punctuation(x))\n",
    "data_xgb['question2'] = data_xgb['question2'].apply(lambda x: remove_punctuation(x))"
   ]
  },
  {
   "cell_type": "code",
   "execution_count": 37,
   "metadata": {
    "collapsed": true
   },
   "outputs": [],
   "source": [
    "# remove stopwords in our corpus\n",
    "data_xgb['question1'] = data_xgb['question1'].apply(remove_stopwords)\n",
    "data_xgb['question2'] = data_xgb['question2'].apply(remove_stopwords)"
   ]
  },
  {
   "cell_type": "code",
   "execution_count": 38,
   "metadata": {},
   "outputs": [
    {
     "data": {
      "text/html": [
       "<div>\n",
       "<style>\n",
       "    .dataframe thead tr:only-child th {\n",
       "        text-align: right;\n",
       "    }\n",
       "\n",
       "    .dataframe thead th {\n",
       "        text-align: left;\n",
       "    }\n",
       "\n",
       "    .dataframe tbody tr th {\n",
       "        vertical-align: top;\n",
       "    }\n",
       "</style>\n",
       "<table border=\"1\" class=\"dataframe\">\n",
       "  <thead>\n",
       "    <tr style=\"text-align: right;\">\n",
       "      <th></th>\n",
       "      <th>question1</th>\n",
       "      <th>question2</th>\n",
       "      <th>is_duplicate</th>\n",
       "    </tr>\n",
       "  </thead>\n",
       "  <tbody>\n",
       "    <tr>\n",
       "      <th>0</th>\n",
       "      <td>[step, step, guide, invest, share, market, india]</td>\n",
       "      <td>[step, step, guide, invest, share, market]</td>\n",
       "      <td>0</td>\n",
       "    </tr>\n",
       "    <tr>\n",
       "      <th>1</th>\n",
       "      <td>[story, kohinoor, koh, noor, diamond]</td>\n",
       "      <td>[would, happen, indian, government, stole, koh...</td>\n",
       "      <td>0</td>\n",
       "    </tr>\n",
       "    <tr>\n",
       "      <th>2</th>\n",
       "      <td>[increase, speed, internet, connection, using,...</td>\n",
       "      <td>[internet, speed, increased, hacking, dns]</td>\n",
       "      <td>0</td>\n",
       "    </tr>\n",
       "    <tr>\n",
       "      <th>3</th>\n",
       "      <td>[mentally, lonely, solve]</td>\n",
       "      <td>[find, remainder, math, 23, 24, math, divided,...</td>\n",
       "      <td>0</td>\n",
       "    </tr>\n",
       "    <tr>\n",
       "      <th>4</th>\n",
       "      <td>[one, dissolve, water, quikly, sugar, salt, me...</td>\n",
       "      <td>[fish, would, survive, salt, water]</td>\n",
       "      <td>0</td>\n",
       "    </tr>\n",
       "  </tbody>\n",
       "</table>\n",
       "</div>"
      ],
      "text/plain": [
       "                                           question1  \\\n",
       "0  [step, step, guide, invest, share, market, india]   \n",
       "1              [story, kohinoor, koh, noor, diamond]   \n",
       "2  [increase, speed, internet, connection, using,...   \n",
       "3                          [mentally, lonely, solve]   \n",
       "4  [one, dissolve, water, quikly, sugar, salt, me...   \n",
       "\n",
       "                                           question2  is_duplicate  \n",
       "0         [step, step, guide, invest, share, market]             0  \n",
       "1  [would, happen, indian, government, stole, koh...             0  \n",
       "2         [internet, speed, increased, hacking, dns]             0  \n",
       "3  [find, remainder, math, 23, 24, math, divided,...             0  \n",
       "4                [fish, would, survive, salt, water]             0  "
      ]
     },
     "execution_count": 38,
     "metadata": {},
     "output_type": "execute_result"
    }
   ],
   "source": [
    "data_xgb.head()"
   ]
  },
  {
   "cell_type": "markdown",
   "metadata": {},
   "source": [
    "### 2. Features engineering"
   ]
  },
  {
   "cell_type": "markdown",
   "metadata": {},
   "source": [
    "We will perform the following features engineering on our data:\n",
    "<ol>\n",
    "<li>Similarity score between the two questions of each record.</li>\n",
    "<li>Number of words in question 1.</li>\n",
    "<li>Number of words in question 2.</li>\n",
    "<li>Number of unique token in question 1.</li>\n",
    "<li>Number of unique token in question 2.</li>\n",
    "<li>Number of unique shared token between question 1 and question 2.</li>\n",
    "</ol>"
   ]
  },
  {
   "cell_type": "markdown",
   "metadata": {},
   "source": [
    "#### 2.1 Similarity score"
   ]
  },
  {
   "cell_type": "code",
   "execution_count": 39,
   "metadata": {
    "collapsed": true
   },
   "outputs": [],
   "source": [
    "##prepare the data to build the LSA model\n",
    "data1 = data_xgb.question1\n",
    "data2 = data_xgb.question2\n",
    "data_q1 = []\n",
    "data_q2 = []\n",
    "q1_q2 = []\n",
    "for d in data1:\n",
    "    d1 = ' '.join(d)\n",
    "    data_q1.append(d1)\n",
    "    \n",
    "for d in data2:\n",
    "    d2 = ' '.join(d)\n",
    "    data_q2.append(d2)\n",
    "# our document set consist of all the questions: questions1 and questions2    \n",
    "q1_q2 = data_q1 + data_q2"
   ]
  },
  {
   "cell_type": "code",
   "execution_count": 40,
   "metadata": {},
   "outputs": [
    {
     "data": {
      "text/plain": [
       "Pipeline(steps=[('tfidfvectorizer', TfidfVectorizer(analyzer='word', binary=False, decode_error='strict',\n",
       "        dtype=<class 'numpy.int64'>, encoding='utf-8', input='content',\n",
       "        lowercase=True, max_df=1.0, max_features=None, min_df=1,\n",
       "        ngram_range=(1, 1), norm='l2', preprocessor=None, smooth_i...vd', TruncatedSVD(algorithm='arpack', n_components=100, n_iter=5, random_state=10,\n",
       "       tol=0.0))])"
      ]
     },
     "execution_count": 40,
     "metadata": {},
     "output_type": "execute_result"
    }
   ],
   "source": [
    "svd_clf = make_pipeline(TfidfVectorizer(min_df=1),\n",
    "                               TruncatedSVD(algorithm='arpack', n_components=100, random_state=seed))\n",
    "svd_clf"
   ]
  },
  {
   "cell_type": "code",
   "execution_count": 41,
   "metadata": {},
   "outputs": [
    {
     "data": {
      "text/plain": [
       "Pipeline(steps=[('tfidfvectorizer', TfidfVectorizer(analyzer='word', binary=False, decode_error='strict',\n",
       "        dtype=<class 'numpy.int64'>, encoding='utf-8', input='content',\n",
       "        lowercase=True, max_df=1.0, max_features=None, min_df=1,\n",
       "        ngram_range=(1, 1), norm='l2', preprocessor=None, smooth_i...vd', TruncatedSVD(algorithm='arpack', n_components=100, n_iter=5, random_state=10,\n",
       "       tol=0.0))])"
      ]
     },
     "execution_count": 41,
     "metadata": {},
     "output_type": "execute_result"
    }
   ],
   "source": [
    "# fit the model\n",
    "svd_clf.fit(q1_q2)"
   ]
  },
  {
   "cell_type": "code",
   "execution_count": 42,
   "metadata": {
    "collapsed": true
   },
   "outputs": [],
   "source": [
    "# apply trainsform to question1 and question 2 to get SVD vectors\n",
    "questions1_transform = svd_clf.transform(data_q1)\n",
    "questions2_transform = svd_clf.transform(data_q2)"
   ]
  },
  {
   "cell_type": "code",
   "execution_count": 43,
   "metadata": {
    "collapsed": true
   },
   "outputs": [],
   "source": [
    "# similarity score\n",
    "sim = similarity(questions1_transform, questions2_transform)\n"
   ]
  },
  {
   "cell_type": "code",
   "execution_count": 44,
   "metadata": {
    "collapsed": true
   },
   "outputs": [],
   "source": [
    "data_xgb['similarity'] = sim"
   ]
  },
  {
   "cell_type": "code",
   "execution_count": 45,
   "metadata": {},
   "outputs": [
    {
     "data": {
      "text/html": [
       "<div>\n",
       "<style>\n",
       "    .dataframe thead tr:only-child th {\n",
       "        text-align: right;\n",
       "    }\n",
       "\n",
       "    .dataframe thead th {\n",
       "        text-align: left;\n",
       "    }\n",
       "\n",
       "    .dataframe tbody tr th {\n",
       "        vertical-align: top;\n",
       "    }\n",
       "</style>\n",
       "<table border=\"1\" class=\"dataframe\">\n",
       "  <thead>\n",
       "    <tr style=\"text-align: right;\">\n",
       "      <th></th>\n",
       "      <th>question1</th>\n",
       "      <th>question2</th>\n",
       "      <th>is_duplicate</th>\n",
       "      <th>similarity</th>\n",
       "    </tr>\n",
       "  </thead>\n",
       "  <tbody>\n",
       "    <tr>\n",
       "      <th>0</th>\n",
       "      <td>[step, step, guide, invest, share, market, india]</td>\n",
       "      <td>[step, step, guide, invest, share, market]</td>\n",
       "      <td>0</td>\n",
       "      <td>0.279266</td>\n",
       "    </tr>\n",
       "    <tr>\n",
       "      <th>1</th>\n",
       "      <td>[story, kohinoor, koh, noor, diamond]</td>\n",
       "      <td>[would, happen, indian, government, stole, koh...</td>\n",
       "      <td>0</td>\n",
       "      <td>0.001116</td>\n",
       "    </tr>\n",
       "    <tr>\n",
       "      <th>2</th>\n",
       "      <td>[increase, speed, internet, connection, using,...</td>\n",
       "      <td>[internet, speed, increased, hacking, dns]</td>\n",
       "      <td>0</td>\n",
       "      <td>0.476311</td>\n",
       "    </tr>\n",
       "    <tr>\n",
       "      <th>3</th>\n",
       "      <td>[mentally, lonely, solve]</td>\n",
       "      <td>[find, remainder, math, 23, 24, math, divided,...</td>\n",
       "      <td>0</td>\n",
       "      <td>0.132588</td>\n",
       "    </tr>\n",
       "    <tr>\n",
       "      <th>4</th>\n",
       "      <td>[one, dissolve, water, quikly, sugar, salt, me...</td>\n",
       "      <td>[fish, would, survive, salt, water]</td>\n",
       "      <td>0</td>\n",
       "      <td>0.022397</td>\n",
       "    </tr>\n",
       "  </tbody>\n",
       "</table>\n",
       "</div>"
      ],
      "text/plain": [
       "                                           question1  \\\n",
       "0  [step, step, guide, invest, share, market, india]   \n",
       "1              [story, kohinoor, koh, noor, diamond]   \n",
       "2  [increase, speed, internet, connection, using,...   \n",
       "3                          [mentally, lonely, solve]   \n",
       "4  [one, dissolve, water, quikly, sugar, salt, me...   \n",
       "\n",
       "                                           question2  is_duplicate  similarity  \n",
       "0         [step, step, guide, invest, share, market]             0    0.279266  \n",
       "1  [would, happen, indian, government, stole, koh...             0    0.001116  \n",
       "2         [internet, speed, increased, hacking, dns]             0    0.476311  \n",
       "3  [find, remainder, math, 23, 24, math, divided,...             0    0.132588  \n",
       "4                [fish, would, survive, salt, water]             0    0.022397  "
      ]
     },
     "execution_count": 45,
     "metadata": {},
     "output_type": "execute_result"
    }
   ],
   "source": [
    "data_xgb.head()"
   ]
  },
  {
   "cell_type": "markdown",
   "metadata": {},
   "source": [
    "#### 2.2: Other feature engineering"
   ]
  },
  {
   "cell_type": "code",
   "execution_count": 46,
   "metadata": {
    "collapsed": true
   },
   "outputs": [],
   "source": [
    "# other feature engineering\n",
    "### number of word in question 1\n",
    "data_xgb['q1_len'] = data_xgb['question1'].apply(len)\n",
    "### number of word in question 2\n",
    "data_xgb['q2_len'] = data_xgb['question2'].apply(len)\n",
    "### number of unique word in question 1\n",
    "data_xgb['q1_voc_len'] = data_xgb['question1'].apply(lambda x: len(list(set(x))))\n",
    "### number of unique word in question 2\n",
    "data_xgb['q2_voc_len'] = data_xgb['question2'].apply(lambda x: len(list(set(x))))\n",
    "### number of unique word in both question 1 and question 2\n",
    "data_xgb['shared_token_len'] = data_xgb.apply(lambda row: len(list(set(row['question1']) & set(row['question2']))), axis=1 )"
   ]
  },
  {
   "cell_type": "code",
   "execution_count": 47,
   "metadata": {},
   "outputs": [
    {
     "data": {
      "text/html": [
       "<div>\n",
       "<style>\n",
       "    .dataframe thead tr:only-child th {\n",
       "        text-align: right;\n",
       "    }\n",
       "\n",
       "    .dataframe thead th {\n",
       "        text-align: left;\n",
       "    }\n",
       "\n",
       "    .dataframe tbody tr th {\n",
       "        vertical-align: top;\n",
       "    }\n",
       "</style>\n",
       "<table border=\"1\" class=\"dataframe\">\n",
       "  <thead>\n",
       "    <tr style=\"text-align: right;\">\n",
       "      <th></th>\n",
       "      <th>question1</th>\n",
       "      <th>question2</th>\n",
       "      <th>is_duplicate</th>\n",
       "      <th>similarity</th>\n",
       "      <th>q1_len</th>\n",
       "      <th>q2_len</th>\n",
       "      <th>q1_voc_len</th>\n",
       "      <th>q2_voc_len</th>\n",
       "      <th>shared_token_len</th>\n",
       "    </tr>\n",
       "  </thead>\n",
       "  <tbody>\n",
       "    <tr>\n",
       "      <th>0</th>\n",
       "      <td>[step, step, guide, invest, share, market, india]</td>\n",
       "      <td>[step, step, guide, invest, share, market]</td>\n",
       "      <td>0</td>\n",
       "      <td>0.279266</td>\n",
       "      <td>7</td>\n",
       "      <td>6</td>\n",
       "      <td>6</td>\n",
       "      <td>5</td>\n",
       "      <td>5</td>\n",
       "    </tr>\n",
       "    <tr>\n",
       "      <th>1</th>\n",
       "      <td>[story, kohinoor, koh, noor, diamond]</td>\n",
       "      <td>[would, happen, indian, government, stole, koh...</td>\n",
       "      <td>0</td>\n",
       "      <td>0.001116</td>\n",
       "      <td>5</td>\n",
       "      <td>10</td>\n",
       "      <td>5</td>\n",
       "      <td>10</td>\n",
       "      <td>4</td>\n",
       "    </tr>\n",
       "    <tr>\n",
       "      <th>2</th>\n",
       "      <td>[increase, speed, internet, connection, using,...</td>\n",
       "      <td>[internet, speed, increased, hacking, dns]</td>\n",
       "      <td>0</td>\n",
       "      <td>0.476311</td>\n",
       "      <td>6</td>\n",
       "      <td>5</td>\n",
       "      <td>6</td>\n",
       "      <td>5</td>\n",
       "      <td>2</td>\n",
       "    </tr>\n",
       "    <tr>\n",
       "      <th>3</th>\n",
       "      <td>[mentally, lonely, solve]</td>\n",
       "      <td>[find, remainder, math, 23, 24, math, divided,...</td>\n",
       "      <td>0</td>\n",
       "      <td>0.132588</td>\n",
       "      <td>3</td>\n",
       "      <td>9</td>\n",
       "      <td>3</td>\n",
       "      <td>6</td>\n",
       "      <td>0</td>\n",
       "    </tr>\n",
       "    <tr>\n",
       "      <th>4</th>\n",
       "      <td>[one, dissolve, water, quikly, sugar, salt, me...</td>\n",
       "      <td>[fish, would, survive, salt, water]</td>\n",
       "      <td>0</td>\n",
       "      <td>0.022397</td>\n",
       "      <td>10</td>\n",
       "      <td>5</td>\n",
       "      <td>10</td>\n",
       "      <td>5</td>\n",
       "      <td>2</td>\n",
       "    </tr>\n",
       "  </tbody>\n",
       "</table>\n",
       "</div>"
      ],
      "text/plain": [
       "                                           question1  \\\n",
       "0  [step, step, guide, invest, share, market, india]   \n",
       "1              [story, kohinoor, koh, noor, diamond]   \n",
       "2  [increase, speed, internet, connection, using,...   \n",
       "3                          [mentally, lonely, solve]   \n",
       "4  [one, dissolve, water, quikly, sugar, salt, me...   \n",
       "\n",
       "                                           question2  is_duplicate  \\\n",
       "0         [step, step, guide, invest, share, market]             0   \n",
       "1  [would, happen, indian, government, stole, koh...             0   \n",
       "2         [internet, speed, increased, hacking, dns]             0   \n",
       "3  [find, remainder, math, 23, 24, math, divided,...             0   \n",
       "4                [fish, would, survive, salt, water]             0   \n",
       "\n",
       "   similarity  q1_len  q2_len  q1_voc_len  q2_voc_len  shared_token_len  \n",
       "0    0.279266       7       6           6           5                 5  \n",
       "1    0.001116       5      10           5          10                 4  \n",
       "2    0.476311       6       5           6           5                 2  \n",
       "3    0.132588       3       9           3           6                 0  \n",
       "4    0.022397      10       5          10           5                 2  "
      ]
     },
     "execution_count": 47,
     "metadata": {},
     "output_type": "execute_result"
    }
   ],
   "source": [
    "data_xgb.head()"
   ]
  },
  {
   "cell_type": "code",
   "execution_count": 48,
   "metadata": {
    "collapsed": true
   },
   "outputs": [],
   "source": [
    "# remove nan\n",
    "# remove NAN iN similarity\n",
    "ind_sim = data_xgb[data_xgb.similarity.isnull()].index"
   ]
  },
  {
   "cell_type": "code",
   "execution_count": 49,
   "metadata": {},
   "outputs": [
    {
     "data": {
      "text/plain": [
       "253"
      ]
     },
     "execution_count": 49,
     "metadata": {},
     "output_type": "execute_result"
    }
   ],
   "source": [
    "len(ind_sim)"
   ]
  },
  {
   "cell_type": "code",
   "execution_count": 50,
   "metadata": {
    "collapsed": true
   },
   "outputs": [],
   "source": [
    "data_xgb.drop(ind_sim, inplace=True)"
   ]
  },
  {
   "cell_type": "code",
   "execution_count": 51,
   "metadata": {},
   "outputs": [
    {
     "name": "stdout",
     "output_type": "stream",
     "text": [
      "<class 'pandas.core.frame.DataFrame'>\n",
      "Int64Index: 404028 entries, 0 to 404289\n",
      "Data columns (total 9 columns):\n",
      "question1           404028 non-null object\n",
      "question2           404028 non-null object\n",
      "is_duplicate        404028 non-null int64\n",
      "similarity          404028 non-null float64\n",
      "q1_len              404028 non-null int64\n",
      "q2_len              404028 non-null int64\n",
      "q1_voc_len          404028 non-null int64\n",
      "q2_voc_len          404028 non-null int64\n",
      "shared_token_len    404028 non-null int64\n",
      "dtypes: float64(1), int64(6), object(2)\n",
      "memory usage: 30.8+ MB\n"
     ]
    }
   ],
   "source": [
    "data_xgb.info()"
   ]
  },
  {
   "cell_type": "code",
   "execution_count": 53,
   "metadata": {
    "collapsed": true
   },
   "outputs": [],
   "source": [
    "# drop the column we won't need\n",
    "data_xgb.drop(['question1', 'question2'], axis=1, inplace=True)"
   ]
  },
  {
   "cell_type": "code",
   "execution_count": 54,
   "metadata": {},
   "outputs": [
    {
     "data": {
      "text/html": [
       "<div>\n",
       "<style>\n",
       "    .dataframe thead tr:only-child th {\n",
       "        text-align: right;\n",
       "    }\n",
       "\n",
       "    .dataframe thead th {\n",
       "        text-align: left;\n",
       "    }\n",
       "\n",
       "    .dataframe tbody tr th {\n",
       "        vertical-align: top;\n",
       "    }\n",
       "</style>\n",
       "<table border=\"1\" class=\"dataframe\">\n",
       "  <thead>\n",
       "    <tr style=\"text-align: right;\">\n",
       "      <th></th>\n",
       "      <th>is_duplicate</th>\n",
       "      <th>similarity</th>\n",
       "      <th>q1_len</th>\n",
       "      <th>q2_len</th>\n",
       "      <th>q1_voc_len</th>\n",
       "      <th>q2_voc_len</th>\n",
       "      <th>shared_token_len</th>\n",
       "    </tr>\n",
       "  </thead>\n",
       "  <tbody>\n",
       "    <tr>\n",
       "      <th>0</th>\n",
       "      <td>0</td>\n",
       "      <td>0.279266</td>\n",
       "      <td>7</td>\n",
       "      <td>6</td>\n",
       "      <td>6</td>\n",
       "      <td>5</td>\n",
       "      <td>5</td>\n",
       "    </tr>\n",
       "    <tr>\n",
       "      <th>1</th>\n",
       "      <td>0</td>\n",
       "      <td>0.001116</td>\n",
       "      <td>5</td>\n",
       "      <td>10</td>\n",
       "      <td>5</td>\n",
       "      <td>10</td>\n",
       "      <td>4</td>\n",
       "    </tr>\n",
       "    <tr>\n",
       "      <th>2</th>\n",
       "      <td>0</td>\n",
       "      <td>0.476311</td>\n",
       "      <td>6</td>\n",
       "      <td>5</td>\n",
       "      <td>6</td>\n",
       "      <td>5</td>\n",
       "      <td>2</td>\n",
       "    </tr>\n",
       "    <tr>\n",
       "      <th>3</th>\n",
       "      <td>0</td>\n",
       "      <td>0.132588</td>\n",
       "      <td>3</td>\n",
       "      <td>9</td>\n",
       "      <td>3</td>\n",
       "      <td>6</td>\n",
       "      <td>0</td>\n",
       "    </tr>\n",
       "    <tr>\n",
       "      <th>4</th>\n",
       "      <td>0</td>\n",
       "      <td>0.022397</td>\n",
       "      <td>10</td>\n",
       "      <td>5</td>\n",
       "      <td>10</td>\n",
       "      <td>5</td>\n",
       "      <td>2</td>\n",
       "    </tr>\n",
       "  </tbody>\n",
       "</table>\n",
       "</div>"
      ],
      "text/plain": [
       "   is_duplicate  similarity  q1_len  q2_len  q1_voc_len  q2_voc_len  \\\n",
       "0             0    0.279266       7       6           6           5   \n",
       "1             0    0.001116       5      10           5          10   \n",
       "2             0    0.476311       6       5           6           5   \n",
       "3             0    0.132588       3       9           3           6   \n",
       "4             0    0.022397      10       5          10           5   \n",
       "\n",
       "   shared_token_len  \n",
       "0                 5  \n",
       "1                 4  \n",
       "2                 2  \n",
       "3                 0  \n",
       "4                 2  "
      ]
     },
     "execution_count": 54,
     "metadata": {},
     "output_type": "execute_result"
    }
   ],
   "source": [
    "data_xgb.head()"
   ]
  },
  {
   "cell_type": "markdown",
   "metadata": {},
   "source": [
    "### Data distribution"
   ]
  },
  {
   "cell_type": "code",
   "execution_count": 55,
   "metadata": {},
   "outputs": [
    {
     "data": {
      "image/png": "[encoded data removed]",
      "text/plain": [
       "<matplotlib.figure.Figure at 0x7f66f6e2c8d0>"
      ]
     },
     "metadata": {},
     "output_type": "display_data"
    }
   ],
   "source": [
    "data_xgb[['similarity', 'q1_len', 'q2_len', 'q1_voc_len', 'q2_voc_len', 'shared_token_len']].plot(kind= 'density',\n",
    "                                                                                                    figsize=(15, 10),\n",
    "                                                                                                    subplots=True, layout=(2,3),\n",
    "                                                                                                    sharex=False, sharey=False)\n",
    "plt.show()"
   ]
  },
  {
   "cell_type": "markdown",
   "metadata": {},
   "source": [
    "### Correlation"
   ]
  },
  {
   "cell_type": "code",
   "execution_count": 56,
   "metadata": {
    "collapsed": true
   },
   "outputs": [],
   "source": [
    "data_xgb_features = data_xgb[['similarity', 'q1_len', 'q2_len', 'q1_voc_len', 'q2_voc_len', 'shared_token_len']]"
   ]
  },
  {
   "cell_type": "code",
   "execution_count": 57,
   "metadata": {
    "collapsed": true
   },
   "outputs": [],
   "source": [
    "names = list(data_xgb_features.columns.values)"
   ]
  },
  {
   "cell_type": "code",
   "execution_count": 60,
   "metadata": {},
   "outputs": [
    {
     "data": {
      "image/png": "[encoded data removed]",
      "text/plain": [
       "<matplotlib.figure.Figure at 0x7f66d070e668>"
      ]
     },
     "metadata": {},
     "output_type": "display_data"
    }
   ],
   "source": [
    "#correlation matrix\n",
    "fig = plt.figure(figsize=(15, 10))\n",
    "ax = fig.add_subplot(111)\n",
    "cax = ax.matshow(data_xgb_features.corr(),vmin=-1, vmax=1)\n",
    "fig.colorbar(cax)\n",
    "ticks = np.arange(0,6,1)\n",
    "ax.set_xticks(ticks)\n",
    "ax.set_yticks(ticks)\n",
    "ax.set_xticklabels(names)\n",
    "ax.set_yticklabels(names)\n",
    "plt.show()"
   ]
  },
  {
   "cell_type": "code",
   "execution_count": 61,
   "metadata": {},
   "outputs": [
    {
     "data": {
      "text/plain": [
       "XGBClassifier(base_score=0.5, booster='gbtree', colsample_bylevel=1,\n",
       "       colsample_bytree=1, gamma=0, learning_rate=0.1, max_delta_step=0,\n",
       "       max_depth=3, min_child_weight=1, missing=None, n_estimators=100,\n",
       "       n_jobs=1, nthread=None, objective='binary:logistic', random_state=0,\n",
       "       reg_alpha=0, reg_lambda=1, scale_pos_weight=1, seed=None,\n",
       "       silent=True, subsample=1)"
      ]
     },
     "execution_count": 61,
     "metadata": {},
     "output_type": "execute_result"
    }
   ],
   "source": [
    "# xgboost tree\n",
    "xgb_model = XGBClassifier()\n",
    "xgb_model.fit(data_xgb.drop('is_duplicate',1), data_xgb.is_duplicate)"
   ]
  },
  {
   "cell_type": "code",
   "execution_count": 66,
   "metadata": {},
   "outputs": [
    {
     "data": {
      "image/png": "[encoded data removed]",
      "text/plain": [
       "<matplotlib.figure.Figure at 0x7f66d05b1d30>"
      ]
     },
     "metadata": {},
     "output_type": "display_data"
    }
   ],
   "source": [
    "# todo importance figure\n",
    "plot_importance(xgb_model)\n",
    "plt.show()"
   ]
  },
  {
   "cell_type": "code",
   "execution_count": 67,
   "metadata": {
    "collapsed": true
   },
   "outputs": [],
   "source": [
    "# split the data into training and test dataset \n",
    "train_xgb, test_xgb = train_test_split(data_xgb, test_size=0.1, random_state=seed)"
   ]
  },
  {
   "cell_type": "code",
   "execution_count": 68,
   "metadata": {
    "collapsed": true
   },
   "outputs": [],
   "source": [
    "### save data for xgboost learning\n",
    "train_xgb.to_pickle('data/quora_xgb_train.pickle')\n",
    "test_xgb.to_pickle('data/quora_xgb_test.pickle')"
   ]
  },
  {
   "cell_type": "markdown",
   "metadata": {},
   "source": [
    "In this section, we have prepared our dataset for the xgboost learning model. "
   ]
  },
  {
   "cell_type": "markdown",
   "metadata": {},
   "source": [
    "## XGboost model results"
   ]
  },
  {
   "cell_type": "code",
   "execution_count": 69,
   "metadata": {
    "collapsed": true
   },
   "outputs": [],
   "source": [
    "import pandas as pd"
   ]
  },
  {
   "cell_type": "code",
   "execution_count": 70,
   "metadata": {
    "collapsed": true
   },
   "outputs": [],
   "source": [
    "results = pd.read_csv('results.csv')"
   ]
  },
  {
   "cell_type": "code",
   "execution_count": 71,
   "metadata": {},
   "outputs": [
    {
     "data": {
      "text/html": [
       "<div>\n",
       "<style>\n",
       "    .dataframe thead tr:only-child th {\n",
       "        text-align: right;\n",
       "    }\n",
       "\n",
       "    .dataframe thead th {\n",
       "        text-align: left;\n",
       "    }\n",
       "\n",
       "    .dataframe tbody tr th {\n",
       "        vertical-align: top;\n",
       "    }\n",
       "</style>\n",
       "<table border=\"1\" class=\"dataframe\">\n",
       "  <thead>\n",
       "    <tr style=\"text-align: right;\">\n",
       "      <th></th>\n",
       "      <th>max_depth</th>\n",
       "      <th>mean_test_score</th>\n",
       "      <th>mean_train_score</th>\n",
       "      <th>n_estimators</th>\n",
       "      <th>learning_rate</th>\n",
       "    </tr>\n",
       "  </thead>\n",
       "  <tbody>\n",
       "    <tr>\n",
       "      <th>0</th>\n",
       "      <td>8</td>\n",
       "      <td>0.632535</td>\n",
       "      <td>0.691859</td>\n",
       "      <td>950</td>\n",
       "      <td>0.1</td>\n",
       "    </tr>\n",
       "    <tr>\n",
       "      <th>1</th>\n",
       "      <td>8</td>\n",
       "      <td>0.632256</td>\n",
       "      <td>0.693540</td>\n",
       "      <td>1000</td>\n",
       "      <td>0.1</td>\n",
       "    </tr>\n",
       "    <tr>\n",
       "      <th>2</th>\n",
       "      <td>8</td>\n",
       "      <td>0.632141</td>\n",
       "      <td>0.695346</td>\n",
       "      <td>1050</td>\n",
       "      <td>0.1</td>\n",
       "    </tr>\n",
       "    <tr>\n",
       "      <th>3</th>\n",
       "      <td>10</td>\n",
       "      <td>0.630692</td>\n",
       "      <td>0.720166</td>\n",
       "      <td>950</td>\n",
       "      <td>0.1</td>\n",
       "    </tr>\n",
       "    <tr>\n",
       "      <th>4</th>\n",
       "      <td>10</td>\n",
       "      <td>0.630145</td>\n",
       "      <td>0.722614</td>\n",
       "      <td>1000</td>\n",
       "      <td>0.1</td>\n",
       "    </tr>\n",
       "  </tbody>\n",
       "</table>\n",
       "</div>"
      ],
      "text/plain": [
       "   max_depth  mean_test_score  mean_train_score  n_estimators  learning_rate\n",
       "0          8         0.632535          0.691859           950            0.1\n",
       "1          8         0.632256          0.693540          1000            0.1\n",
       "2          8         0.632141          0.695346          1050            0.1\n",
       "3         10         0.630692          0.720166           950            0.1\n",
       "4         10         0.630145          0.722614          1000            0.1"
      ]
     },
     "execution_count": 71,
     "metadata": {},
     "output_type": "execute_result"
    }
   ],
   "source": [
    "results.head()"
   ]
  },
  {
   "cell_type": "code",
   "execution_count": 72,
   "metadata": {
    "collapsed": true
   },
   "outputs": [],
   "source": [
    "res = pd.melt(results, id_vars=['max_depth', 'n_estimators', 'learning_rate'], value_vars=['mean_test_score', 'mean_train_score'])"
   ]
  },
  {
   "cell_type": "code",
   "execution_count": 73,
   "metadata": {},
   "outputs": [
    {
     "data": {
      "text/html": [
       "<div>\n",
       "<style>\n",
       "    .dataframe thead tr:only-child th {\n",
       "        text-align: right;\n",
       "    }\n",
       "\n",
       "    .dataframe thead th {\n",
       "        text-align: left;\n",
       "    }\n",
       "\n",
       "    .dataframe tbody tr th {\n",
       "        vertical-align: top;\n",
       "    }\n",
       "</style>\n",
       "<table border=\"1\" class=\"dataframe\">\n",
       "  <thead>\n",
       "    <tr style=\"text-align: right;\">\n",
       "      <th></th>\n",
       "      <th>max_depth</th>\n",
       "      <th>n_estimators</th>\n",
       "      <th>learning_rate</th>\n",
       "      <th>variable</th>\n",
       "      <th>value</th>\n",
       "    </tr>\n",
       "  </thead>\n",
       "  <tbody>\n",
       "    <tr>\n",
       "      <th>0</th>\n",
       "      <td>8</td>\n",
       "      <td>950</td>\n",
       "      <td>0.1</td>\n",
       "      <td>mean_test_score</td>\n",
       "      <td>0.632535</td>\n",
       "    </tr>\n",
       "    <tr>\n",
       "      <th>1</th>\n",
       "      <td>8</td>\n",
       "      <td>1000</td>\n",
       "      <td>0.1</td>\n",
       "      <td>mean_test_score</td>\n",
       "      <td>0.632256</td>\n",
       "    </tr>\n",
       "    <tr>\n",
       "      <th>2</th>\n",
       "      <td>8</td>\n",
       "      <td>1050</td>\n",
       "      <td>0.1</td>\n",
       "      <td>mean_test_score</td>\n",
       "      <td>0.632141</td>\n",
       "    </tr>\n",
       "    <tr>\n",
       "      <th>3</th>\n",
       "      <td>10</td>\n",
       "      <td>950</td>\n",
       "      <td>0.1</td>\n",
       "      <td>mean_test_score</td>\n",
       "      <td>0.630692</td>\n",
       "    </tr>\n",
       "    <tr>\n",
       "      <th>4</th>\n",
       "      <td>10</td>\n",
       "      <td>1000</td>\n",
       "      <td>0.1</td>\n",
       "      <td>mean_test_score</td>\n",
       "      <td>0.630145</td>\n",
       "    </tr>\n",
       "  </tbody>\n",
       "</table>\n",
       "</div>"
      ],
      "text/plain": [
       "   max_depth  n_estimators  learning_rate         variable     value\n",
       "0          8           950            0.1  mean_test_score  0.632535\n",
       "1          8          1000            0.1  mean_test_score  0.632256\n",
       "2          8          1050            0.1  mean_test_score  0.632141\n",
       "3         10           950            0.1  mean_test_score  0.630692\n",
       "4         10          1000            0.1  mean_test_score  0.630145"
      ]
     },
     "execution_count": 73,
     "metadata": {},
     "output_type": "execute_result"
    }
   ],
   "source": [
    "res.head()"
   ]
  },
  {
   "cell_type": "markdown",
   "metadata": {},
   "source": [
    "### Plot results"
   ]
  },
  {
   "cell_type": "code",
   "execution_count": 88,
   "metadata": {},
   "outputs": [
    {
     "data": {
      "image/png": "[encoded data removed]",
      "text/plain": [
       "<matplotlib.figure.Figure at 0x7f66d00e7278>"
      ]
     },
     "metadata": {},
     "output_type": "display_data"
    }
   ],
   "source": [
    "g = sns.FacetGrid(res, col=\"max_depth\",  row=\"n_estimators\", hue='variable', sharex=False, sharey=False)\n",
    "g = g.map(plt.plot, \"learning_rate\", \"value\").add_legend()\n",
    "plt.show()"
   ]
  },
  {
   "cell_type": "markdown",
   "metadata": {},
   "source": [
    "The best params have the following:\n",
    "best params {'max_depth': 8, 'n_estimators': 950, 'learning_rate': 0.1}"
   ]
  },
  {
   "cell_type": "markdown",
   "metadata": {},
   "source": [
    "### Final XGBoost model"
   ]
  },
  {
   "cell_type": "code",
   "execution_count": 83,
   "metadata": {
    "collapsed": true
   },
   "outputs": [],
   "source": [
    "data_train = pd.read_pickle('data/quora_xgb_train.pickle').values\n",
    "X_train = data_train[:, 1:]\n",
    "y_train = data_train[:, 0]"
   ]
  },
  {
   "cell_type": "code",
   "execution_count": 84,
   "metadata": {
    "collapsed": true
   },
   "outputs": [],
   "source": [
    "data_train = pd.read_pickle('data/quora_xgb_test.pickle').values\n",
    "X_test = data_train[:, 1:]\n",
    "y_test = data_train[:, 0]"
   ]
  },
  {
   "cell_type": "code",
   "execution_count": 85,
   "metadata": {
    "collapsed": true
   },
   "outputs": [],
   "source": [
    "model = XGBClassifier(max_depth=8, n_estimators=950, learning_rate=0.1, random_state=seed)"
   ]
  },
  {
   "cell_type": "code",
   "execution_count": 86,
   "metadata": {},
   "outputs": [
    {
     "data": {
      "text/plain": [
       "XGBClassifier(base_score=0.5, booster='gbtree', colsample_bylevel=1,\n",
       "       colsample_bytree=1, gamma=0, learning_rate=0.1, max_delta_step=0,\n",
       "       max_depth=8, min_child_weight=1, missing=None, n_estimators=950,\n",
       "       n_jobs=1, nthread=None, objective='binary:logistic',\n",
       "       random_state=10, reg_alpha=0, reg_lambda=1, scale_pos_weight=1,\n",
       "       seed=None, silent=True, subsample=1)"
      ]
     },
     "execution_count": 86,
     "metadata": {},
     "output_type": "execute_result"
    }
   ],
   "source": [
    "model.fit(X_train, y_train)"
   ]
  },
  {
   "cell_type": "code",
   "execution_count": 90,
   "metadata": {},
   "outputs": [
    {
     "name": "stdout",
     "output_type": "stream",
     "text": [
      "F1 Score: 64.50%\n"
     ]
    }
   ],
   "source": [
    "y_pred = model.predict(X_test)\n",
    "predictions = [round(value) for value in y_pred]\n",
    "# evaluate predictions\n",
    "f1 = f1_score(y_test, predictions)\n",
    "print(\"F1 Score: %.2f%%\" % (f1 * 100.0))"
   ]
  },
  {
   "cell_type": "markdown",
   "metadata": {},
   "source": [
    "## Convolutional neural network results"
   ]
  },
  {
   "cell_type": "markdown",
   "metadata": {},
   "source": [
    "### Result visualization"
   ]
  },
  {
   "cell_type": "code",
   "execution_count": 5,
   "metadata": {
    "collapsed": true
   },
   "outputs": [],
   "source": [
    "def make_fbeta(threshold_shift):\n",
    "    def fbeta(y_true, y_pred, beta=1):\n",
    "        '''\n",
    "        Compute fbeta score.\n",
    "        :param y_true: y_true\n",
    "        :param y_pred: predicted value\n",
    "        :param threshold_shift: threshold\n",
    "        :param beta: beta value\n",
    "        :return: fbeta score\n",
    "    \n",
    "    '''\n",
    "    # just in case of hipster activation at the final layer\n",
    "        y_pred = K.clip(y_pred, 0, 1)\n",
    "        y_true = K.clip(y_true, 0, 1)\n",
    "    \n",
    "    # shifting the prediction threshold from .5 if needed\n",
    "        y_pred_bin = K.round(y_pred + threshold_shift)\n",
    "    \n",
    "        tp = K.sum(K.round(y_true * y_pred_bin)) + K.epsilon()\n",
    "        fp = K.sum(K.round(K.clip(y_pred_bin - y_true, 0, 1)))\n",
    "        fn = K.sum(K.round(K.clip(y_true - y_pred, 0, 1)))\n",
    "    \n",
    "        precision = tp / (tp + fp)\n",
    "        recall = tp / (tp + fn)\n",
    "    \n",
    "        beta_squared = beta ** 2\n",
    "        return (beta_squared + 1) * (precision * recall) / (beta_squared * precision + recall + K.epsilon())\n",
    "    return fbeta"
   ]
  },
  {
   "cell_type": "code",
   "execution_count": 6,
   "metadata": {
    "collapsed": true
   },
   "outputs": [],
   "source": [
    "fbeta01 = make_fbeta(0.1)\n",
    "fbeta02 = make_fbeta(0.2)\n",
    "fbeta03 = make_fbeta(0.3)\n",
    "fbeta04 = make_fbeta(0.4)\n",
    "fbeta00 = make_fbeta(0.0)\n",
    "fbeta_minus01 = make_fbeta(-0.1)\n",
    "fbeta_minus02 = make_fbeta(-0.2)\n",
    "fbeta_minus03 = make_fbeta(-0.3)\n",
    "fbeta_minus04 = make_fbeta(-0.4)"
   ]
  },
  {
   "cell_type": "code",
   "execution_count": 7,
   "metadata": {
    "collapsed": true
   },
   "outputs": [],
   "source": [
    "from models.cnn_model import CnnModel\n",
    "from utils import *\n",
    "import pandas as pd\n",
    "\n",
    "filter_size = 512\n",
    "strides = (1, 1)\n",
    "padding = 'VALID'\n",
    "embedding_len = 100\n",
    "sentence_len = 40\n",
    "activation = 'relu'\n",
    "filters = [2, 3, 4, 5, 6, 7, 8, 9, 10]\n",
    "bias = True\n",
    "k_initialization = 'glorot_uniform'\n",
    "b_initialization = 'zeros'\n",
    "input_shape = (sentence_len, embedding_len, 1)"
   ]
  },
  {
   "cell_type": "code",
   "execution_count": 8,
   "metadata": {},
   "outputs": [
    {
     "name": "stdout",
     "output_type": "stream",
     "text": [
      "____________________________________________________________________________________________________\n",
      "Layer (type)                     Output Shape          Param #     Connected to                     \n",
      "====================================================================================================\n",
      "input_1 (InputLayer)             (None, 40, 100, 1)    0                                            \n",
      "____________________________________________________________________________________________________\n",
      "input_2 (InputLayer)             (None, 40, 100, 1)    0                                            \n",
      "____________________________________________________________________________________________________\n",
      "conv2d_1 (Conv2D)                (None, 39, 1, 512)    102912      input_1[0][0]                    \n",
      "                                                                   input_2[0][0]                    \n",
      "____________________________________________________________________________________________________\n",
      "conv2d_2 (Conv2D)                (None, 38, 1, 512)    154112      input_1[0][0]                    \n",
      "                                                                   input_2[0][0]                    \n",
      "____________________________________________________________________________________________________\n",
      "conv2d_3 (Conv2D)                (None, 37, 1, 512)    205312      input_1[0][0]                    \n",
      "                                                                   input_2[0][0]                    \n",
      "____________________________________________________________________________________________________\n",
      "conv2d_4 (Conv2D)                (None, 36, 1, 512)    256512      input_1[0][0]                    \n",
      "                                                                   input_2[0][0]                    \n",
      "____________________________________________________________________________________________________\n",
      "conv2d_5 (Conv2D)                (None, 35, 1, 512)    307712      input_1[0][0]                    \n",
      "                                                                   input_2[0][0]                    \n",
      "____________________________________________________________________________________________________\n",
      "conv2d_6 (Conv2D)                (None, 34, 1, 512)    358912      input_1[0][0]                    \n",
      "                                                                   input_2[0][0]                    \n",
      "____________________________________________________________________________________________________\n",
      "conv2d_7 (Conv2D)                (None, 33, 1, 512)    410112      input_1[0][0]                    \n",
      "                                                                   input_2[0][0]                    \n",
      "____________________________________________________________________________________________________\n",
      "conv2d_8 (Conv2D)                (None, 32, 1, 512)    461312      input_1[0][0]                    \n",
      "                                                                   input_2[0][0]                    \n",
      "____________________________________________________________________________________________________\n",
      "conv2d_9 (Conv2D)                (None, 31, 1, 512)    512512      input_1[0][0]                    \n",
      "                                                                   input_2[0][0]                    \n",
      "____________________________________________________________________________________________________\n",
      "dropout_1 (Dropout)              (None, 39, 1, 512)    0           conv2d_1[0][0]                   \n",
      "____________________________________________________________________________________________________\n",
      "dropout_2 (Dropout)              (None, 38, 1, 512)    0           conv2d_2[0][0]                   \n",
      "____________________________________________________________________________________________________\n",
      "dropout_3 (Dropout)              (None, 37, 1, 512)    0           conv2d_3[0][0]                   \n",
      "____________________________________________________________________________________________________\n",
      "dropout_4 (Dropout)              (None, 36, 1, 512)    0           conv2d_4[0][0]                   \n",
      "____________________________________________________________________________________________________\n",
      "dropout_5 (Dropout)              (None, 35, 1, 512)    0           conv2d_5[0][0]                   \n",
      "____________________________________________________________________________________________________\n",
      "dropout_6 (Dropout)              (None, 34, 1, 512)    0           conv2d_6[0][0]                   \n",
      "____________________________________________________________________________________________________\n",
      "dropout_7 (Dropout)              (None, 33, 1, 512)    0           conv2d_7[0][0]                   \n",
      "____________________________________________________________________________________________________\n",
      "dropout_8 (Dropout)              (None, 32, 1, 512)    0           conv2d_8[0][0]                   \n",
      "____________________________________________________________________________________________________\n",
      "dropout_9 (Dropout)              (None, 31, 1, 512)    0           conv2d_9[0][0]                   \n",
      "____________________________________________________________________________________________________\n",
      "dropout_10 (Dropout)             (None, 39, 1, 512)    0           conv2d_1[1][0]                   \n",
      "____________________________________________________________________________________________________\n",
      "dropout_11 (Dropout)             (None, 38, 1, 512)    0           conv2d_2[1][0]                   \n",
      "____________________________________________________________________________________________________\n",
      "dropout_12 (Dropout)             (None, 37, 1, 512)    0           conv2d_3[1][0]                   \n",
      "____________________________________________________________________________________________________\n",
      "dropout_13 (Dropout)             (None, 36, 1, 512)    0           conv2d_4[1][0]                   \n",
      "____________________________________________________________________________________________________\n",
      "dropout_14 (Dropout)             (None, 35, 1, 512)    0           conv2d_5[1][0]                   \n",
      "____________________________________________________________________________________________________\n",
      "dropout_15 (Dropout)             (None, 34, 1, 512)    0           conv2d_6[1][0]                   \n",
      "____________________________________________________________________________________________________\n",
      "dropout_16 (Dropout)             (None, 33, 1, 512)    0           conv2d_7[1][0]                   \n",
      "____________________________________________________________________________________________________\n",
      "dropout_17 (Dropout)             (None, 32, 1, 512)    0           conv2d_8[1][0]                   \n",
      "____________________________________________________________________________________________________\n",
      "dropout_18 (Dropout)             (None, 31, 1, 512)    0           conv2d_9[1][0]                   \n",
      "____________________________________________________________________________________________________\n",
      "max_pooling2d_1 (MaxPooling2D)   (None, 1, 1, 512)     0           dropout_1[0][0]                  \n",
      "____________________________________________________________________________________________________\n",
      "max_pooling2d_2 (MaxPooling2D)   (None, 1, 1, 512)     0           dropout_2[0][0]                  \n",
      "____________________________________________________________________________________________________\n",
      "max_pooling2d_3 (MaxPooling2D)   (None, 1, 1, 512)     0           dropout_3[0][0]                  \n",
      "____________________________________________________________________________________________________\n",
      "max_pooling2d_4 (MaxPooling2D)   (None, 1, 1, 512)     0           dropout_4[0][0]                  \n",
      "____________________________________________________________________________________________________\n",
      "max_pooling2d_5 (MaxPooling2D)   (None, 1, 1, 512)     0           dropout_5[0][0]                  \n",
      "____________________________________________________________________________________________________\n",
      "max_pooling2d_6 (MaxPooling2D)   (None, 1, 1, 512)     0           dropout_6[0][0]                  \n",
      "____________________________________________________________________________________________________\n",
      "max_pooling2d_7 (MaxPooling2D)   (None, 1, 1, 512)     0           dropout_7[0][0]                  \n",
      "____________________________________________________________________________________________________\n",
      "max_pooling2d_8 (MaxPooling2D)   (None, 1, 1, 512)     0           dropout_8[0][0]                  \n",
      "____________________________________________________________________________________________________\n",
      "max_pooling2d_9 (MaxPooling2D)   (None, 1, 1, 512)     0           dropout_9[0][0]                  \n",
      "____________________________________________________________________________________________________\n",
      "max_pooling2d_10 (MaxPooling2D)  (None, 1, 1, 512)     0           dropout_10[0][0]                 \n",
      "____________________________________________________________________________________________________\n",
      "max_pooling2d_11 (MaxPooling2D)  (None, 1, 1, 512)     0           dropout_11[0][0]                 \n",
      "____________________________________________________________________________________________________\n",
      "max_pooling2d_12 (MaxPooling2D)  (None, 1, 1, 512)     0           dropout_12[0][0]                 \n",
      "____________________________________________________________________________________________________\n",
      "max_pooling2d_13 (MaxPooling2D)  (None, 1, 1, 512)     0           dropout_13[0][0]                 \n",
      "____________________________________________________________________________________________________\n",
      "max_pooling2d_14 (MaxPooling2D)  (None, 1, 1, 512)     0           dropout_14[0][0]                 \n",
      "____________________________________________________________________________________________________\n",
      "max_pooling2d_15 (MaxPooling2D)  (None, 1, 1, 512)     0           dropout_15[0][0]                 \n",
      "____________________________________________________________________________________________________\n",
      "max_pooling2d_16 (MaxPooling2D)  (None, 1, 1, 512)     0           dropout_16[0][0]                 \n",
      "____________________________________________________________________________________________________\n",
      "max_pooling2d_17 (MaxPooling2D)  (None, 1, 1, 512)     0           dropout_17[0][0]                 \n",
      "____________________________________________________________________________________________________\n",
      "max_pooling2d_18 (MaxPooling2D)  (None, 1, 1, 512)     0           dropout_18[0][0]                 \n",
      "____________________________________________________________________________________________________\n",
      "merge_1 (Merge)                  (None, 1, 1, 4608)    0           max_pooling2d_1[0][0]            \n",
      "                                                                   max_pooling2d_2[0][0]            \n",
      "                                                                   max_pooling2d_3[0][0]            \n",
      "                                                                   max_pooling2d_4[0][0]            \n",
      "                                                                   max_pooling2d_5[0][0]            \n",
      "                                                                   max_pooling2d_6[0][0]            \n",
      "                                                                   max_pooling2d_7[0][0]            \n",
      "                                                                   max_pooling2d_8[0][0]            \n",
      "                                                                   max_pooling2d_9[0][0]            \n",
      "____________________________________________________________________________________________________\n",
      "merge_2 (Merge)                  (None, 1, 1, 4608)    0           max_pooling2d_10[0][0]           \n",
      "                                                                   max_pooling2d_11[0][0]           \n",
      "                                                                   max_pooling2d_12[0][0]           \n",
      "                                                                   max_pooling2d_13[0][0]           \n",
      "                                                                   max_pooling2d_14[0][0]           \n",
      "                                                                   max_pooling2d_15[0][0]           \n",
      "                                                                   max_pooling2d_16[0][0]           \n",
      "                                                                   max_pooling2d_17[0][0]           \n",
      "                                                                   max_pooling2d_18[0][0]           \n",
      "____________________________________________________________________________________________________\n",
      "reshape_1 (Reshape)              (None, 4608)          0           merge_1[0][0]                    \n",
      "____________________________________________________________________________________________________\n",
      "reshape_2 (Reshape)              (None, 4608)          0           merge_2[0][0]                    \n",
      "____________________________________________________________________________________________________\n",
      "dot_1 (Dot)                      (None, 1)             0           reshape_1[0][0]                  \n",
      "                                                                   reshape_2[0][0]                  \n",
      "====================================================================================================\n",
      "Total params: 2,769,408\n",
      "Trainable params: 2,769,408\n",
      "Non-trainable params: 0\n",
      "____________________________________________________________________________________________________\n"
     ]
    }
   ],
   "source": [
    "cnn_model = CnnModel.from_weights('models/model.weights.best.hdf5', filter_size, strides, padding, embedding_len, activation,filters, k_initialization, b_initialization, input_shape, bias)\n",
    "cnn_model.summary()\n",
    "cnn_model.compile(loss='mean_squared_error', optimizer='adam', metrics=[fbeta_minus04, fbeta_minus03, fbeta_minus02, fbeta_minus01,fbeta00, fbeta01, fbeta02, fbeta03, fbeta04 ])"
   ]
  },
  {
   "cell_type": "code",
   "execution_count": 9,
   "metadata": {
    "collapsed": true
   },
   "outputs": [],
   "source": [
    "test = pd.read_pickle('data/quora_cnn_test.pickle')"
   ]
  },
  {
   "cell_type": "code",
   "execution_count": 10,
   "metadata": {
    "collapsed": true
   },
   "outputs": [],
   "source": [
    "sentence_1_test = test.question1.tolist()\n",
    "sentence_2_test = test.question2.tolist()\n",
    "y_test = test.is_duplicate.tolist()\n",
    "question_1_test, question_2_test, y_test = reshape_data(sentence_1_test, sentence_2_test, y_test)"
   ]
  },
  {
   "cell_type": "code",
   "execution_count": 11,
   "metadata": {
    "collapsed": true
   },
   "outputs": [],
   "source": [
    "scores = cnn_model.evaluate([question_1_test, question_2_test], y_test)"
   ]
  },
  {
   "cell_type": "code",
   "execution_count": 12,
   "metadata": {},
   "outputs": [
    {
     "data": {
      "text/plain": [
       "[0.13803778676073367,\n",
       " 0.80163690647898467,\n",
       " 0.83399159012897262,\n",
       " 0.83609674125485522,\n",
       " 0.8263953027903157,\n",
       " 0.8125622029384848,\n",
       " 0.79445643268134514,\n",
       " 0.7700613053728379,\n",
       " 0.73822953360957544,\n",
       " 0.69621932087274263]"
      ]
     },
     "execution_count": 12,
     "metadata": {},
     "output_type": "execute_result"
    }
   ],
   "source": [
    "scores"
   ]
  },
  {
   "cell_type": "code",
   "execution_count": 13,
   "metadata": {
    "collapsed": true
   },
   "outputs": [],
   "source": [
    "scores_final = scores[1:]"
   ]
  },
  {
   "cell_type": "code",
   "execution_count": 14,
   "metadata": {
    "collapsed": true
   },
   "outputs": [],
   "source": [
    "shift = [-0.4, -0.3, -0.2, -0.1, 0.0, 0.1, 0.2, 0.3, 0.4]"
   ]
  },
  {
   "cell_type": "code",
   "execution_count": 15,
   "metadata": {
    "collapsed": true
   },
   "outputs": [],
   "source": [
    "df = pd.DataFrame({'threshold_shift':shift, 'fbeta':scores_final})"
   ]
  },
  {
   "cell_type": "code",
   "execution_count": 16,
   "metadata": {},
   "outputs": [
    {
     "data": {
      "text/html": [
       "<div>\n",
       "<style>\n",
       "    .dataframe thead tr:only-child th {\n",
       "        text-align: right;\n",
       "    }\n",
       "\n",
       "    .dataframe thead th {\n",
       "        text-align: left;\n",
       "    }\n",
       "\n",
       "    .dataframe tbody tr th {\n",
       "        vertical-align: top;\n",
       "    }\n",
       "</style>\n",
       "<table border=\"1\" class=\"dataframe\">\n",
       "  <thead>\n",
       "    <tr style=\"text-align: right;\">\n",
       "      <th></th>\n",
       "      <th>fbeta</th>\n",
       "      <th>threshold_shift</th>\n",
       "    </tr>\n",
       "  </thead>\n",
       "  <tbody>\n",
       "    <tr>\n",
       "      <th>0</th>\n",
       "      <td>0.801637</td>\n",
       "      <td>-0.4</td>\n",
       "    </tr>\n",
       "    <tr>\n",
       "      <th>1</th>\n",
       "      <td>0.833992</td>\n",
       "      <td>-0.3</td>\n",
       "    </tr>\n",
       "    <tr>\n",
       "      <th>2</th>\n",
       "      <td>0.836097</td>\n",
       "      <td>-0.2</td>\n",
       "    </tr>\n",
       "    <tr>\n",
       "      <th>3</th>\n",
       "      <td>0.826395</td>\n",
       "      <td>-0.1</td>\n",
       "    </tr>\n",
       "    <tr>\n",
       "      <th>4</th>\n",
       "      <td>0.812562</td>\n",
       "      <td>0.0</td>\n",
       "    </tr>\n",
       "    <tr>\n",
       "      <th>5</th>\n",
       "      <td>0.794456</td>\n",
       "      <td>0.1</td>\n",
       "    </tr>\n",
       "    <tr>\n",
       "      <th>6</th>\n",
       "      <td>0.770061</td>\n",
       "      <td>0.2</td>\n",
       "    </tr>\n",
       "    <tr>\n",
       "      <th>7</th>\n",
       "      <td>0.738230</td>\n",
       "      <td>0.3</td>\n",
       "    </tr>\n",
       "    <tr>\n",
       "      <th>8</th>\n",
       "      <td>0.696219</td>\n",
       "      <td>0.4</td>\n",
       "    </tr>\n",
       "  </tbody>\n",
       "</table>\n",
       "</div>"
      ],
      "text/plain": [
       "      fbeta  threshold_shift\n",
       "0  0.801637             -0.4\n",
       "1  0.833992             -0.3\n",
       "2  0.836097             -0.2\n",
       "3  0.826395             -0.1\n",
       "4  0.812562              0.0\n",
       "5  0.794456              0.1\n",
       "6  0.770061              0.2\n",
       "7  0.738230              0.3\n",
       "8  0.696219              0.4"
      ]
     },
     "execution_count": 16,
     "metadata": {},
     "output_type": "execute_result"
    }
   ],
   "source": [
    "df"
   ]
  },
  {
   "cell_type": "code",
   "execution_count": 18,
   "metadata": {},
   "outputs": [
    {
     "data": {
      "image/png": "[encoded data removed]",
      "text/plain": [
       "<matplotlib.figure.Figure at 0x7f6f84c240b8>"
      ]
     },
     "metadata": {},
     "output_type": "display_data"
    }
   ],
   "source": [
    "df.plot(x='threshold_shift', y='fbeta', marker='o')\n",
    "plt.ylabel('score')\n",
    "plt.show()"
   ]
  },
  {
   "cell_type": "code",
   "execution_count": 19,
   "metadata": {
    "collapsed": true
   },
   "outputs": [],
   "source": [
    "from models.w2vec_model import Word2VecModel\n",
    "w2vmodel = Word2VecModel.from_file('models/model.w2v')"
   ]
  },
  {
   "cell_type": "code",
   "execution_count": 20,
   "metadata": {
    "collapsed": true
   },
   "outputs": [],
   "source": [
    "def build_vector(sentence):\n",
    "    s = clean_str(sentence)\n",
    "    w =  remove_punctuation(s.split())\n",
    "    e = remove_stopwords(w)\n",
    "    e = e + ['']*(40 - len(e)) if len(e) < 40 else e[:40]\n",
    "    arr = w2vmodel.get_w2v_vector(e, 100)\n",
    "    return arr"
   ]
  },
  {
   "cell_type": "code",
   "execution_count": 21,
   "metadata": {
    "collapsed": true
   },
   "outputs": [],
   "source": [
    "def predict_sentence(model, question_1, question_2):\n",
    "    q1 = build_vector(question_1)\n",
    "    q2 =  build_vector(question_2)\n",
    "    q1 = q1.reshape(q1.shape + (1,))\n",
    "    q2 = q2.reshape(q2.shape + (1,))\n",
    "    q1 = np.expand_dims(q1, axis=0)\n",
    "    q2 = np.expand_dims(q2, axis=0)\n",
    "    score = model.predict([q1, q2])\n",
    "    print('!!!!!!!---- Predicting Similarity ----!!!!!!!')\n",
    "    print('Sentence 1:' + question_1)\n",
    "    print('Sentence 2:' + question_2)\n",
    "    if score[0] < 0.7:\n",
    "        print('Both sentences are not similar with score: {}'.format(score[0]))\n",
    "    else:\n",
    "        print('Both sentences are similar with score: {}'.format(score[0]))"
   ]
  },
  {
   "cell_type": "code",
   "execution_count": 52,
   "metadata": {},
   "outputs": [
    {
     "name": "stdout",
     "output_type": "stream",
     "text": [
      "!!!!!!!---- Predicting Similarity ----!!!!!!!\n",
      "Sentence 1:how to become a US citizen ?\n",
      "Sentence 2:how to become a French citizen ?\n",
      "Both sentences are not similar with score: [ 0.23872811]\n"
     ]
    }
   ],
   "source": [
    "sentence_1 = 'how to become a US citizen ?'\n",
    "sentence_2 = 'how to become a French citizen ?'\n",
    "predict_sentence(cnn_model, sentence_1, sentence_2)"
   ]
  },
  {
   "cell_type": "code",
   "execution_count": 53,
   "metadata": {},
   "outputs": [
    {
     "name": "stdout",
     "output_type": "stream",
     "text": [
      "!!!!!!!---- Predicting Similarity ----!!!!!!!\n",
      "Sentence 1:how to become a US citizen ?\n",
      "Sentence 2:how to become a EU citizen ?\n",
      "Both sentences are not similar with score: [ 0.00465195]\n"
     ]
    }
   ],
   "source": [
    "sentence_1 = 'how to become a US citizen ?'\n",
    "sentence_2 = 'how to become a EU citizen ?'\n",
    "predict_sentence(cnn_model, sentence_1, sentence_2)"
   ]
  },
  {
   "cell_type": "code",
   "execution_count": 54,
   "metadata": {},
   "outputs": [
    {
     "name": "stdout",
     "output_type": "stream",
     "text": [
      "!!!!!!!---- Predicting Similarity ----!!!!!!!\n",
      "Sentence 1:how to become an Italian citizen?\n",
      "Sentence 2:how to become a EU citizen ?\n",
      "Both sentences are not similar with score: [ 0.32664385]\n"
     ]
    }
   ],
   "source": [
    "sentence_1 = 'how to become an Italian citizen?'\n",
    "sentence_2 = 'how to become a EU citizen ?'\n",
    "predict_sentence(cnn_model, sentence_1, sentence_2)"
   ]
  },
  {
   "cell_type": "code",
   "execution_count": 56,
   "metadata": {},
   "outputs": [
    {
     "name": "stdout",
     "output_type": "stream",
     "text": [
      "!!!!!!!---- Predicting Similarity ----!!!!!!!\n",
      "Sentence 1:how to become a EU citizen ?\n",
      "Sentence 2:how to become a EU citizen ?\n",
      "Both sentences are similar with score: [ 0.99999994]\n"
     ]
    }
   ],
   "source": [
    "sentence_1 = 'how to become a EU citizen ?'\n",
    "sentence_2 = 'how to become a EU citizen ?'\n",
    "predict_sentence(cnn_model, sentence_1, sentence_2)"
   ]
  },
  {
   "cell_type": "code",
   "execution_count": 57,
   "metadata": {},
   "outputs": [
    {
     "name": "stdout",
     "output_type": "stream",
     "text": [
      "!!!!!!!---- Predicting Similarity ----!!!!!!!\n",
      "Sentence 1:What is the best city to visit in europe ?\n",
      "Sentence 2:What is the best city to visit in EU ?\n",
      "Both sentences are similar with score: [ 0.75177467]\n"
     ]
    }
   ],
   "source": [
    "sentence_1 = 'What is the best city to visit in europe ?'\n",
    "sentence_2 = 'What is the best city to visit in EU ?'\n",
    "predict_sentence(cnn_model, sentence_1, sentence_2)"
   ]
  },
  {
   "cell_type": "code",
   "execution_count": 58,
   "metadata": {},
   "outputs": [
    {
     "name": "stdout",
     "output_type": "stream",
     "text": [
      "!!!!!!!---- Predicting Similarity ----!!!!!!!\n",
      "Sentence 1:What is the best city to visit in ASIA ?\n",
      "Sentence 2:What is the best city to visit in africa ?\n",
      "Both sentences are not similar with score: [ 0.67797351]\n"
     ]
    }
   ],
   "source": [
    "sentence_1 = 'What is the best city to visit in ASIA ?'\n",
    "sentence_2 = 'What is the best city to visit in africa ?'\n",
    "predict_sentence(cnn_model, sentence_1, sentence_2)"
   ]
  },
  {
   "cell_type": "code",
   "execution_count": 59,
   "metadata": {},
   "outputs": [
    {
     "name": "stdout",
     "output_type": "stream",
     "text": [
      "!!!!!!!---- Predicting Similarity ----!!!!!!!\n",
      "Sentence 1:How to add 2 numbers ?\n",
      "Sentence 2:how to perform addition on 2 numbers ?\n",
      "Both sentences are similar with score: [ 0.8533954]\n"
     ]
    }
   ],
   "source": [
    "sentence_1 = 'How to add 2 numbers ?'\n",
    "sentence_2 = 'how to perform addition on 2 numbers ?'\n",
    "predict_sentence(cnn_model, sentence_1, sentence_2)"
   ]
  },
  {
   "cell_type": "code",
   "execution_count": 60,
   "metadata": {},
   "outputs": [
    {
     "name": "stdout",
     "output_type": "stream",
     "text": [
      "!!!!!!!---- Predicting Similarity ----!!!!!!!\n",
      "Sentence 1:How to become a data scientist ?\n",
      "Sentence 2:how to be a data scientist ?\n",
      "Both sentences are not similar with score: [ 0.56243247]\n"
     ]
    }
   ],
   "source": [
    "sentence_1 = 'How to become a data scientist ?'\n",
    "sentence_2 = 'how to be a data scientist ?'\n",
    "predict_sentence(cnn_model, sentence_1, sentence_2)"
   ]
  },
  {
   "cell_type": "code",
   "execution_count": 61,
   "metadata": {},
   "outputs": [
    {
     "name": "stdout",
     "output_type": "stream",
     "text": [
      "!!!!!!!---- Predicting Similarity ----!!!!!!!\n",
      "Sentence 1:How to become a data scientist ?\n",
      "Sentence 2:how to become a data analyst ?\n",
      "Both sentences are similar with score: [ 0.71512794]\n"
     ]
    }
   ],
   "source": [
    "sentence_1 = 'How to become a data scientist ?'\n",
    "sentence_2 = 'how to become a data analyst ?'\n",
    "predict_sentence(cnn_model, sentence_1, sentence_2)"
   ]
  },
  {
   "cell_type": "code",
   "execution_count": 62,
   "metadata": {},
   "outputs": [
    {
     "name": "stdout",
     "output_type": "stream",
     "text": [
      "!!!!!!!---- Predicting Similarity ----!!!!!!!\n",
      "Sentence 1:what is the daily routine of teachers ?\n",
      "Sentence 2:what teachers do everyday ?\n",
      "Both sentences are not similar with score: [ 0.12048633]\n"
     ]
    }
   ],
   "source": [
    "sentence_1 = 'what is the daily routine of teachers ?'\n",
    "sentence_2 = 'what teachers do everyday ?'\n",
    "predict_sentence(cnn_model, sentence_1, sentence_2)"
   ]
  },
  {
   "cell_type": "code",
   "execution_count": 63,
   "metadata": {},
   "outputs": [
    {
     "name": "stdout",
     "output_type": "stream",
     "text": [
      "!!!!!!!---- Predicting Similarity ----!!!!!!!\n",
      "Sentence 1:what most americans eat in the morning ?\n",
      "Sentence 2: what most americans eat for breakfast ?\n",
      "Both sentences are not similar with score: [ 0.68511772]\n"
     ]
    }
   ],
   "source": [
    "sentence_1 = 'what most americans eat in the morning ?'\n",
    "sentence_2 = ' what most americans eat for breakfast ?'\n",
    "predict_sentence(cnn_model, sentence_1, sentence_2)"
   ]
  },
  {
   "cell_type": "code",
   "execution_count": 64,
   "metadata": {},
   "outputs": [
    {
     "name": "stdout",
     "output_type": "stream",
     "text": [
      "!!!!!!!---- Predicting Similarity ----!!!!!!!\n",
      "Sentence 1:what is the popular dish in Italy ?\n",
      "Sentence 2:why italian eat pasta everyday ?\n",
      "Both sentences are not similar with score: [ 0.00035387]\n"
     ]
    }
   ],
   "source": [
    "sentence_1 = 'what is the popular dish in Italy ?'\n",
    "sentence_2 = 'why italian eat pasta everyday ?'\n",
    "predict_sentence(cnn_model, sentence_1, sentence_2)"
   ]
  },
  {
   "cell_type": "code",
   "execution_count": 65,
   "metadata": {},
   "outputs": [
    {
     "name": "stdout",
     "output_type": "stream",
     "text": [
      "!!!!!!!---- Predicting Similarity ----!!!!!!!\n",
      "Sentence 1:why germans love beer ?\n",
      "Sentence 2:why italians love coffee ?\n",
      "Both sentences are not similar with score: [ 0.42894882]\n"
     ]
    }
   ],
   "source": [
    "sentence_1 = 'why germans love beer ?'\n",
    "sentence_2 = 'why italians love coffee ?'\n",
    "predict_sentence(cnn_model, sentence_1, sentence_2)"
   ]
  },
  {
   "cell_type": "code",
   "execution_count": 66,
   "metadata": {},
   "outputs": [
    {
     "name": "stdout",
     "output_type": "stream",
     "text": [
      "!!!!!!!---- Predicting Similarity ----!!!!!!!\n",
      "Sentence 1:why rome is one of the dirtiest city in north italy ?\n",
      "Sentence 2:why germany is one of the cleanest country in europe ?\n",
      "Both sentences are not similar with score: [ 0.15353528]\n"
     ]
    }
   ],
   "source": [
    "sentence_1 = 'why rome is one of the dirtiest city in north italy ?'\n",
    "sentence_2 = 'why germany is one of the cleanest country in europe ?'\n",
    "predict_sentence(cnn_model, sentence_1, sentence_2)"
   ]
  },
  {
   "cell_type": "code",
   "execution_count": 69,
   "metadata": {},
   "outputs": [
    {
     "name": "stdout",
     "output_type": "stream",
     "text": [
      "!!!!!!!---- Predicting Similarity ----!!!!!!!\n",
      "Sentence 1:who is the president of the free world?\n",
      "Sentence 2:who is the president of the united states ?\n",
      "Both sentences are similar with score: [ 0.73722506]\n"
     ]
    }
   ],
   "source": [
    "sentence_1 = 'who is the president of the free world?'\n",
    "sentence_2 = 'who is the president of the united states ?'\n",
    "predict_sentence(cnn_model, sentence_1, sentence_2)"
   ]
  },
  {
   "cell_type": "code",
   "execution_count": 83,
   "metadata": {},
   "outputs": [
    {
     "name": "stdout",
     "output_type": "stream",
     "text": [
      "!!!!!!!---- Predicting Similarity ----!!!!!!!\n",
      "Sentence 1:who is the leader of the free world ?\n",
      "Sentence 2:who is Donald J Trump  ?\n",
      "Both sentences are not similar with score: [ 0.044797]\n"
     ]
    }
   ],
   "source": [
    "sentence_1 = 'who is the leader of the free world ?'\n",
    "sentence_2 = 'who is Donald J Trump  ?'\n",
    "predict_sentence(cnn_model, sentence_1, sentence_2)"
   ]
  },
  {
   "cell_type": "code",
   "execution_count": 84,
   "metadata": {},
   "outputs": [
    {
     "name": "stdout",
     "output_type": "stream",
     "text": [
      "!!!!!!!---- Predicting Similarity ----!!!!!!!\n",
      "Sentence 1:who is Barack Obama ?\n",
      "Sentence 2:who is the president of the united states ?\n",
      "Both sentences are similar with score: [ 0.96072662]\n"
     ]
    }
   ],
   "source": [
    "sentence_1 = 'who is Barack Obama ?'\n",
    "sentence_2 = 'who is the president of the united states ?'\n",
    "predict_sentence(cnn_model, sentence_1, sentence_2)"
   ]
  },
  {
   "cell_type": "code",
   "execution_count": 86,
   "metadata": {},
   "outputs": [
    {
     "name": "stdout",
     "output_type": "stream",
     "text": [
      "!!!!!!!---- Predicting Similarity ----!!!!!!!\n",
      "Sentence 1:who is Donald J Trump ?\n",
      "Sentence 2:who is the president of the united states ?\n",
      "Both sentences are similar with score: [ 0.97374898]\n"
     ]
    }
   ],
   "source": [
    "sentence_1 = 'who is Donald J Trump ?'\n",
    "sentence_2 = 'who is the president of the united states ?'\n",
    "predict_sentence(cnn_model, sentence_1, sentence_2)"
   ]
  },
  {
   "cell_type": "code",
   "execution_count": 88,
   "metadata": {},
   "outputs": [
    {
     "name": "stdout",
     "output_type": "stream",
     "text": [
      "!!!!!!!---- Predicting Similarity ----!!!!!!!\n",
      "Sentence 1:who is EMMANUEL MACRON ?\n",
      "Sentence 2:who is the president of the united states ?\n",
      "Both sentences are not similar with score: [ 0.02487888]\n"
     ]
    }
   ],
   "source": [
    "sentence_1 = 'who is EMMANUEL MACRON ?'\n",
    "sentence_2 = 'who is the president of the united states ?'\n",
    "predict_sentence(cnn_model, sentence_1, sentence_2)"
   ]
  },
  {
   "cell_type": "code",
   "execution_count": 89,
   "metadata": {},
   "outputs": [
    {
     "name": "stdout",
     "output_type": "stream",
     "text": [
      "!!!!!!!---- Predicting Similarity ----!!!!!!!\n",
      "Sentence 1:who is EMMANUEL MACRON ?\n",
      "Sentence 2:who is the president of FRANCE ?\n",
      "Both sentences are not similar with score: [ 0.00053833]\n"
     ]
    }
   ],
   "source": [
    "sentence_1 = 'who is EMMANUEL MACRON ?'\n",
    "sentence_2 = 'who is the president of FRANCE ?'\n",
    "predict_sentence(cnn_model, sentence_1, sentence_2)"
   ]
  },
  {
   "cell_type": "code",
   "execution_count": 90,
   "metadata": {},
   "outputs": [
    {
     "name": "stdout",
     "output_type": "stream",
     "text": [
      "!!!!!!!---- Predicting Similarity ----!!!!!!!\n",
      "Sentence 1:who is FRANCOIS Hollande ?\n",
      "Sentence 2:who is the president of FRANCE ?\n",
      "Both sentences are not similar with score: [ 0.00047577]\n"
     ]
    }
   ],
   "source": [
    "sentence_1 = 'who is FRANCOIS Hollande ?'\n",
    "sentence_2 = 'who is the president of FRANCE ?'\n",
    "predict_sentence(cnn_model, sentence_1, sentence_2)"
   ]
  },
  {
   "cell_type": "code",
   "execution_count": 91,
   "metadata": {},
   "outputs": [
    {
     "name": "stdout",
     "output_type": "stream",
     "text": [
      "!!!!!!!---- Predicting Similarity ----!!!!!!!\n",
      "Sentence 1:who is john doe ?\n",
      "Sentence 2:who is the president of the united states ?\n",
      "Both sentences are not similar with score: [ 0.09765264]\n"
     ]
    }
   ],
   "source": [
    "sentence_1 = 'who is john doe ?'\n",
    "sentence_2 = 'who is the president of the united states ?'\n",
    "predict_sentence(cnn_model, sentence_1, sentence_2)"
   ]
  },
  {
   "cell_type": "code",
   "execution_count": null,
   "metadata": {
    "collapsed": true
   },
   "outputs": [],
   "source": []
  }
 ],
 "metadata": {
  "anaconda-cloud": {},
  "kernelspec": {
   "display_name": "Python 3",
   "language": "python",
   "name": "python3"
  },
  "language_info": {
   "codemirror_mode": {
    "name": "ipython",
    "version": 3
   },
   "file_extension": ".py",
   "mimetype": "text/x-python",
   "name": "python",
   "nbconvert_exporter": "python",
   "pygments_lexer": "ipython3",
   "version": "3.6.2"
  }
 },
 "nbformat": 4,
 "nbformat_minor": 1
}
